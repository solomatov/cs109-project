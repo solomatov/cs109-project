{
 "cells": [
  {
   "cell_type": "code",
   "execution_count": 3,
   "metadata": {
    "collapsed": false
   },
   "outputs": [],
   "source": [
    "%matplotlib inline\n",
    "\n",
    "import numpy as np\n",
    "import scipy as sp\n",
    "import matplotlib as mpl\n",
    "import matplotlib.cm as cm\n",
    "import matplotlib.pyplot as plt\n",
    "import pandas as pd\n",
    "pd.set_option('display.max_columns', 500)\n",
    "\n",
    "import seaborn as sns\n",
    "\n",
    "from sklearn import cross_validation, ensemble, tree, linear_model, svm, metrics"
   ]
  },
  {
   "cell_type": "markdown",
   "metadata": {},
   "source": [
    "# 1. Problem formulation/statement"
   ]
  },
  {
   "cell_type": "markdown",
   "metadata": {},
   "source": [
    "*“Using machine learning methods is it possible to predict as early as possible if a person coming into ER will require hospitalization?”*\n",
    "\n",
    "This is a narrow scope, our initial scope was broader but we discarded ideas such as predicting which ward the patient would have to go to and if the the patient eventually would need intensive care. Although we think that the latter information is really essential to have any real benefit of we determined it to be out scope of this study mainly as we are on a very tight schedule.\n",
    "\n",
    "Benefits of the prediction \n",
    "One thing the above prediction can be used for is to create a pull mentality in other wards. If they are informed of coming patients they can act by opening up a bed for the presumed patient. We want to show if it possible with the help of machine learning methods to give an early warning to receiving wards and hence have more effective hospital logistics, one effect of that is that the patients probably will have better care in specialist wards rather than in ER who will have to be able to cater for all kinds of maladies but can be experts in very few.\n",
    "\n",
    "A fast ER flow \n",
    "So one of the main goals that this project could support would be to have a smooth and ultimately fast flow for patients through ER. Is this something to strive for? There seems to be two schools here among physicians that in a way contradict each other, the first one is that if you spend some extra time to get to the bottom of the patient's ailment you will in the end save both time and resources, the other school focuses on a lean flow and would like to send the patient on as soon as possible either home or to another ward. \n",
    "\n"
   ]
  },
  {
   "cell_type": "markdown",
   "metadata": {},
   "source": [
    "# 2. Dataset, data mining, extraction etc"
   ]
  },
  {
   "cell_type": "markdown",
   "metadata": {},
   "source": [
    "The main dataset is the ER - log, also called akutliggaren. In the ER log patients are tracked from when they enter the ER until they exit the ER. The data in the ER log have been extracted from the hospital's main system for  keeping electronic medical records - Take Care. An ETL process extracts data from Take cares data warehouse every night and stores the extract in Microsoft SQL server. For use in this project data has then been exporeted to pipe separated text files that can be imported in Python.\n",
    "\n",
    "The exact structure of the ER log can be found in the projects data dictionary. One of the more important fields of the ER log is the field ForstaSlutenvardVardenhetID, which tells us if a person has become an inpatient in connection with this ER visit and the also gives us the exact ward.\n",
    "\n",
    "Example dashboard that is in use today displayed on a large wall screen in the ER department. The dashboard show the main flows in the Er department. The steps tracked in each flow is\n",
    "\n",
    "* Waiting\n",
    "* Present\n",
    "  - More than 8h (Subset of Present)\n",
    "  - Ready but in need of further hospital care (Subset of Present)\n",
    "\n",
    "Placements done (this is shown by department and the purpose is that every department can show the inbound flow of patients from the ER)\n",
    "\n",
    "<img src=\"images/screen.png\">"
   ]
  },
  {
   "cell_type": "markdown",
   "metadata": {},
   "source": [
    "##Inpatient cost vs outpatient cost\n",
    "\n",
    "\n",
    "###Sweden University hospital Cost Info\n",
    "\n",
    "2014 In-patient cost\n",
    "Average cost/case \t68 505 SEK\n",
    "Patient age mean \t52,5 years\n",
    "Average cost per day\t11 850 SEK ( 1 355 USD )\n",
    "Average length of stay (in days) 4,8\n",
    "\n",
    "2014 Out-patient\n",
    "Snittkostnad\t \t3 262\n",
    "Snittålder\t \t46,7\n",
    "\n",
    "\n",
    "source: Sveriges Kommun och Landsting, https://stat.skl.se/kpp/index.htm\n",
    "(Swedish Association of Local Authorities and Regions)\n",
    "\n",
    "\n",
    "###US (included for comparison )\n",
    "\n",
    "State/local government hospitals 2013\n",
    "Cost per inpatient day 1 878 USD\n",
    "\n",
    "source: http://www.beckershospitalreview.com/finance/average-cost-per-inpatient-day-across-50-states.html"
   ]
  },
  {
   "cell_type": "markdown",
   "metadata": {},
   "source": [
    "## Dataset Selection"
   ]
  },
  {
   "cell_type": "markdown",
   "metadata": {},
   "source": [
    "The chosen dataset contains 2 years of ER - cases from a larger Swedish hospital. \n",
    "The data selected spans the year 2013 and 2014 and the cases included where selected on arrival time. \n",
    "The source data is stored in a relational database and extracted to comma/pipe separated text before imported and \n",
    "used in Python for exploratory analysis and modelling. \n",
    "\n",
    "Data sanity checks\n",
    "\n",
    "\n",
    "Number of cases 2013 to 2014\n",
    "\n",
    "2013\t223595\n",
    "2014\t231208\n",
    "\n",
    "First visit 2013-01-01 00:02:00.000  \n",
    "Last visit 2014-12-31 23:58:00.000\n",
    "\n",
    "Triage measures 2013 to 2014 (translations done within project)\n",
    "\n",
    "termid\tTermnamn\t\t\tCount\n",
    "Null\tNull\t\t\t\t114627\t\tMissing\n",
    "402\tAndningsfrekvens\t\t367663\t\tBreathing frequency\n",
    "1995\tSaturation\t\t\t432100\t\tSaturation\n",
    "2025\tKroppstemperatur\t\t415073\t\tBody temperatur\n",
    "3719\tBlodtryck systoliskt - övre\t309326\t\tBlood pressure systolic\n",
    "3720\tBlodtryck diastoliskt - nedre\t300286\t\tBlood pressure diastolic\n",
    "5357\tGCS ögonöppning\t\t6702\t\tGCS Eye\n",
    "5358\tGCS motoriskt\t\t6760\t\tGCS Motorical\n",
    "5359\tGCS verbalt\t\t\t6630\t\tGCS Verbal\n",
    "9664\tStridor\t\t\t\t171187\t\tStridor\n",
    "9666\tPulsfrekvens regelbunden\t277286\t\tPulse frequency regular\n",
    "9667\tPulsfrekvens oregelbunden\t17663\t\tPulse frequency irregular\n",
    "10825\tMedvetandegrad enl Retts\t231995\t\tConsciousness acc. to Retts\n",
    "10827\tSaturation med syrgas\t9036\t\tSaturation with ogygene\n",
    "10828\tGCS total\t\t\t15047\t\tGCS Total\n",
    "10829\tKrampanfall\t\t\t187\t\tKramps\n",
    "10833\tLuftvägsstatus enl Retts\t243117\t\tAirway (breathing) status acc. Retts\n",
    "\n",
    "crp + vita -> labb -> (30 min)"
   ]
  },
  {
   "cell_type": "markdown",
   "metadata": {},
   "source": [
    "### Assumptions about the data"
   ]
  },
  {
   "cell_type": "markdown",
   "metadata": {},
   "source": [
    "The ETL process that extracts data from the hospital's electronic medical records system can have number \n",
    "of bugs affecting the quality of the data. The quality ETL process and the data it produces has not been explored\n",
    "in this paper.\n",
    "\n",
    "Furthermore many of the discrete variables (for example all for triaging) have already in the ETL process been discretizationed and \"binned\". The discretizations done were supervised by domain experts i.e. doctors. We have not explored what implications of using discretizationed vs the original continous will have on the used machine learning methods. The main reason for this is that the continous values where not part of our source dataset.\n"
   ]
  },
  {
   "cell_type": "markdown",
   "metadata": {},
   "source": [
    "## Prepare Data and Separate it into train and test sets"
   ]
  },
  {
   "cell_type": "code",
   "execution_count": 10,
   "metadata": {
    "collapsed": false
   },
   "outputs": [],
   "source": [
    "data = pd.read_csv('akutliggare.txt', sep='|')"
   ]
  },
  {
   "cell_type": "code",
   "execution_count": 11,
   "metadata": {
    "collapsed": false
   },
   "outputs": [
    {
     "data": {
      "text/html": [
       "<div>\n",
       "<table border=\"1\" class=\"dataframe\">\n",
       "  <thead>\n",
       "    <tr style=\"text-align: right;\">\n",
       "      <th></th>\n",
       "      <th>AkutliggareID</th>\n",
       "      <th>PasID</th>\n",
       "      <th>AnkomstsattID</th>\n",
       "      <th>ProblemorsakID</th>\n",
       "      <th>BesoksorsakID</th>\n",
       "      <th>ForstaBesoksorsakID</th>\n",
       "      <th>FlyttadTillVardenhetID</th>\n",
       "      <th>FlyttadTillLokationID</th>\n",
       "      <th>VardbehovID</th>\n",
       "      <th>VardenhetID</th>\n",
       "      <th>ForstaVardenhetID</th>\n",
       "      <th>ForstaSlutenvardVardenhetID</th>\n",
       "      <th>AndraSlutenvardVardenhetID</th>\n",
       "      <th>SenasteKonsulteradeVardenhetID</th>\n",
       "      <th>SenasteAnsvarigaVardenhetID</th>\n",
       "      <th>PrioritetInID</th>\n",
       "      <th>PrioritetUtID</th>\n",
       "      <th>ForstaAnsvarigaLakareID</th>\n",
       "      <th>SenasteAnsvarigaLakareID</th>\n",
       "      <th>ForstaSkoterskaID</th>\n",
       "      <th>RegistreringsstatusID</th>\n",
       "      <th>AlderID</th>\n",
       "      <th>BesokstypID</th>\n",
       "      <th>DiagnoskodOppenvard</th>\n",
       "      <th>DiagnoskodSlutenvard</th>\n",
       "      <th>Diagnoskod</th>\n",
       "      <th>AndningsfrekvensStatusID</th>\n",
       "      <th>SaturationStatusID</th>\n",
       "      <th>KroppstemperaturStatusID</th>\n",
       "      <th>BlodtryckSystolisktOvreStatusID</th>\n",
       "      <th>BlodtryckDiastolisktNedreStatusID</th>\n",
       "      <th>GCSOgonoppningStatusID</th>\n",
       "      <th>GCSMotorisktStatusID</th>\n",
       "      <th>GCSVerbaltStatusID</th>\n",
       "      <th>StridorStatusID</th>\n",
       "      <th>PulsfrekvensRegelbundenStatusID</th>\n",
       "      <th>PulsfrekvensOregelbundenStatusID</th>\n",
       "      <th>MedvetandegradRettsStatusID</th>\n",
       "      <th>SaturationMedSyrgasStatusID</th>\n",
       "      <th>GCSTotalStatusID</th>\n",
       "      <th>KrampanfallStatusID</th>\n",
       "      <th>LuftvagsstatusRettsStatusID</th>\n",
       "      <th>BLeukocyterStatusID</th>\n",
       "      <th>BErytrocyterStatusID</th>\n",
       "      <th>BHemoglobinStatusID</th>\n",
       "      <th>BEVFStatusID</th>\n",
       "      <th>ErcBMCVStatusID</th>\n",
       "      <th>ErcBMCHStatusID</th>\n",
       "      <th>ErcBMCHCStatusID</th>\n",
       "      <th>BTrombocyterStatusID</th>\n",
       "      <th>PGlukosStatusID</th>\n",
       "      <th>PCRPStatusID</th>\n",
       "      <th>PNatriumStatusID</th>\n",
       "      <th>PKaliumStatusID</th>\n",
       "      <th>PKreatininStatusID</th>\n",
       "      <th>PTroponinTStatusID</th>\n",
       "      <th>AnsvarigtVardlag</th>\n",
       "      <th>KonsulteratVardlag</th>\n",
       "      <th>Klar</th>\n",
       "      <th>TroligInskrivning</th>\n",
       "      <th>Produkttyp</th>\n",
       "      <th>Produktkod</th>\n",
       "      <th>Ankomsttidpunkt</th>\n",
       "      <th>Utskrivningstidpunkt</th>\n",
       "      <th>TidregistreringUtTill</th>\n",
       "      <th>ForstaAnsvarigaLakareTidpunkt</th>\n",
       "      <th>ForstaSkoterskaTidpunkt</th>\n",
       "      <th>SenasteAnsvarigaLakareTidpunkt</th>\n",
       "      <th>SenasteKonsulteradeVardenhetTidpunkt</th>\n",
       "      <th>SenasteAnsvarigaVardenhetTidpunkt</th>\n",
       "      <th>TidTillLakareMinuter</th>\n",
       "      <th>VistelsetidMinuter</th>\n",
       "      <th>VistelsetidPaborjadeTimmar</th>\n",
       "      <th>VantetidTriageMinuter</th>\n",
       "      <th>HandlaggningstidMinuter</th>\n",
       "      <th>Rontgen</th>\n",
       "      <th>RontgenTidTillRemiss</th>\n",
       "      <th>RontgenTidTillUndersokningSlut</th>\n",
       "      <th>RontgenTidTillForstaSvar</th>\n",
       "      <th>Lab</th>\n",
       "      <th>LabTidTillProvtagning</th>\n",
       "      <th>LabTidTillForstaSvar</th>\n",
       "      <th>LabTidTillAnkomstLab</th>\n",
       "      <th>Intensiv</th>\n",
       "      <th>TidTillIntensiv</th>\n",
       "      <th>AntalIntensivInom72Timmar</th>\n",
       "      <th>AntalIn</th>\n",
       "      <th>AntalUt</th>\n",
       "      <th>AntalInvolveradeEnheter</th>\n",
       "      <th>AntalAnsvarigaEnheter</th>\n",
       "      <th>AntalKonsulteradeEnheter</th>\n",
       "      <th>AntalTillLakareInom40Minuter</th>\n",
       "      <th>AntalKlarInom4Timmar</th>\n",
       "      <th>AntalEjKlarInom8Timmar</th>\n",
       "      <th>AntalVistelsetid8Till12Timmar</th>\n",
       "      <th>AntalVistelsetid12Till16Timmar</th>\n",
       "      <th>AntalVistelsetidOver16Timmar</th>\n",
       "      <th>AntalUtanforRettsTidsriktlinje</th>\n",
       "      <th>AntalAterbesokInom72Timmar</th>\n",
       "      <th>AntalBesok</th>\n",
       "      <th>AntalAvlidnaInom7Dagar</th>\n",
       "      <th>AntalAvlidnaInom30Dagar</th>\n",
       "      <th>AntalSlutenvardInom6Timmar</th>\n",
       "      <th>AntalSlutenvardInom12Timmar</th>\n",
       "      <th>AntalDiagnoserOppenvard</th>\n",
       "      <th>AntalDiagnoserSlutenvard</th>\n",
       "      <th>AntalDiagnoser</th>\n",
       "      <th>Alder</th>\n",
       "      <th>SenastUppdaterad</th>\n",
       "    </tr>\n",
       "  </thead>\n",
       "  <tbody>\n",
       "    <tr>\n",
       "      <th>0</th>\n",
       "      <td>1048895</td>\n",
       "      <td>9045567</td>\n",
       "      <td>3272</td>\n",
       "      <td>3795</td>\n",
       "      <td>3152</td>\n",
       "      <td>3152</td>\n",
       "      <td>NaN</td>\n",
       "      <td>-91</td>\n",
       "      <td>NaN</td>\n",
       "      <td>40</td>\n",
       "      <td>40</td>\n",
       "      <td>NaN</td>\n",
       "      <td>NaN</td>\n",
       "      <td>NaN</td>\n",
       "      <td>40</td>\n",
       "      <td>7</td>\n",
       "      <td>7</td>\n",
       "      <td>NaN</td>\n",
       "      <td>NaN</td>\n",
       "      <td>NaN</td>\n",
       "      <td>-1</td>\n",
       "      <td>16</td>\n",
       "      <td>97</td>\n",
       "      <td>M796</td>\n",
       "      <td>NaN</td>\n",
       "      <td>M796</td>\n",
       "      <td>NaN</td>\n",
       "      <td>NaN</td>\n",
       "      <td>NaN</td>\n",
       "      <td>NaN</td>\n",
       "      <td>NaN</td>\n",
       "      <td>NaN</td>\n",
       "      <td>NaN</td>\n",
       "      <td>NaN</td>\n",
       "      <td>NaN</td>\n",
       "      <td>NaN</td>\n",
       "      <td>NaN</td>\n",
       "      <td>NaN</td>\n",
       "      <td>NaN</td>\n",
       "      <td>NaN</td>\n",
       "      <td>NaN</td>\n",
       "      <td>NaN</td>\n",
       "      <td>NaN</td>\n",
       "      <td>NaN</td>\n",
       "      <td>NaN</td>\n",
       "      <td>NaN</td>\n",
       "      <td>NaN</td>\n",
       "      <td>NaN</td>\n",
       "      <td>NaN</td>\n",
       "      <td>NaN</td>\n",
       "      <td>NaN</td>\n",
       "      <td>NaN</td>\n",
       "      <td>NaN</td>\n",
       "      <td>NaN</td>\n",
       "      <td>NaN</td>\n",
       "      <td>NaN</td>\n",
       "      <td>NaN</td>\n",
       "      <td>NaN</td>\n",
       "      <td>True</td>\n",
       "      <td>False</td>\n",
       "      <td>N</td>\n",
       "      <td>821O</td>\n",
       "      <td>2007-03-27 15:30:00</td>\n",
       "      <td>2007-03-27 20:13:00</td>\n",
       "      <td>2007-03-27 20:13:26</td>\n",
       "      <td>NaN</td>\n",
       "      <td>NaN</td>\n",
       "      <td>NaN</td>\n",
       "      <td>NaN</td>\n",
       "      <td>2007-03-27 20:36:44</td>\n",
       "      <td>NaN</td>\n",
       "      <td>283</td>\n",
       "      <td>5</td>\n",
       "      <td>NaN</td>\n",
       "      <td>NaN</td>\n",
       "      <td>False</td>\n",
       "      <td>NaN</td>\n",
       "      <td>NaN</td>\n",
       "      <td>NaN</td>\n",
       "      <td>NaN</td>\n",
       "      <td>NaN</td>\n",
       "      <td>NaN</td>\n",
       "      <td>NaN</td>\n",
       "      <td>False</td>\n",
       "      <td>NaN</td>\n",
       "      <td>0</td>\n",
       "      <td>1</td>\n",
       "      <td>1</td>\n",
       "      <td>1</td>\n",
       "      <td>1</td>\n",
       "      <td>0</td>\n",
       "      <td>0</td>\n",
       "      <td>0</td>\n",
       "      <td>0</td>\n",
       "      <td>0</td>\n",
       "      <td>0</td>\n",
       "      <td>0</td>\n",
       "      <td>0</td>\n",
       "      <td>0</td>\n",
       "      <td>1</td>\n",
       "      <td>0</td>\n",
       "      <td>0</td>\n",
       "      <td>0</td>\n",
       "      <td>0</td>\n",
       "      <td>1</td>\n",
       "      <td>NaN</td>\n",
       "      <td>1</td>\n",
       "      <td>16,726006999999999</td>\n",
       "      <td>2009-02-22 03:35:25</td>\n",
       "    </tr>\n",
       "    <tr>\n",
       "      <th>1</th>\n",
       "      <td>1048896</td>\n",
       "      <td>9048297</td>\n",
       "      <td>3272</td>\n",
       "      <td>3795</td>\n",
       "      <td>3140</td>\n",
       "      <td>3140</td>\n",
       "      <td>NaN</td>\n",
       "      <td>-91</td>\n",
       "      <td>NaN</td>\n",
       "      <td>39</td>\n",
       "      <td>39</td>\n",
       "      <td>NaN</td>\n",
       "      <td>NaN</td>\n",
       "      <td>NaN</td>\n",
       "      <td>39</td>\n",
       "      <td>7</td>\n",
       "      <td>7</td>\n",
       "      <td>1.979031e+11</td>\n",
       "      <td>1.979031e+11</td>\n",
       "      <td>1.983110e+11</td>\n",
       "      <td>-1</td>\n",
       "      <td>24</td>\n",
       "      <td>97</td>\n",
       "      <td>K590</td>\n",
       "      <td>NaN</td>\n",
       "      <td>K590</td>\n",
       "      <td>NaN</td>\n",
       "      <td>NaN</td>\n",
       "      <td>NaN</td>\n",
       "      <td>NaN</td>\n",
       "      <td>NaN</td>\n",
       "      <td>NaN</td>\n",
       "      <td>NaN</td>\n",
       "      <td>NaN</td>\n",
       "      <td>NaN</td>\n",
       "      <td>NaN</td>\n",
       "      <td>NaN</td>\n",
       "      <td>NaN</td>\n",
       "      <td>NaN</td>\n",
       "      <td>NaN</td>\n",
       "      <td>NaN</td>\n",
       "      <td>NaN</td>\n",
       "      <td>NaN</td>\n",
       "      <td>NaN</td>\n",
       "      <td>NaN</td>\n",
       "      <td>NaN</td>\n",
       "      <td>NaN</td>\n",
       "      <td>NaN</td>\n",
       "      <td>NaN</td>\n",
       "      <td>NaN</td>\n",
       "      <td>NaN</td>\n",
       "      <td>NaN</td>\n",
       "      <td>NaN</td>\n",
       "      <td>NaN</td>\n",
       "      <td>NaN</td>\n",
       "      <td>NaN</td>\n",
       "      <td>NaN</td>\n",
       "      <td>NaN</td>\n",
       "      <td>True</td>\n",
       "      <td>False</td>\n",
       "      <td>K</td>\n",
       "      <td>803O</td>\n",
       "      <td>2009-05-12 10:29:00</td>\n",
       "      <td>2009-05-12 11:53:00</td>\n",
       "      <td>2009-05-12 11:53:39</td>\n",
       "      <td>2009-05-12 11:04:00</td>\n",
       "      <td>2009-05-12 11:00:09</td>\n",
       "      <td>2009-05-12 12:25:15</td>\n",
       "      <td>NaN</td>\n",
       "      <td>2009-05-12 12:25:15</td>\n",
       "      <td>35</td>\n",
       "      <td>84</td>\n",
       "      <td>2</td>\n",
       "      <td>NaN</td>\n",
       "      <td>49</td>\n",
       "      <td>False</td>\n",
       "      <td>NaN</td>\n",
       "      <td>NaN</td>\n",
       "      <td>NaN</td>\n",
       "      <td>NaN</td>\n",
       "      <td>NaN</td>\n",
       "      <td>NaN</td>\n",
       "      <td>NaN</td>\n",
       "      <td>False</td>\n",
       "      <td>NaN</td>\n",
       "      <td>0</td>\n",
       "      <td>1</td>\n",
       "      <td>1</td>\n",
       "      <td>1</td>\n",
       "      <td>1</td>\n",
       "      <td>0</td>\n",
       "      <td>1</td>\n",
       "      <td>1</td>\n",
       "      <td>0</td>\n",
       "      <td>0</td>\n",
       "      <td>0</td>\n",
       "      <td>0</td>\n",
       "      <td>0</td>\n",
       "      <td>0</td>\n",
       "      <td>1</td>\n",
       "      <td>0</td>\n",
       "      <td>0</td>\n",
       "      <td>0</td>\n",
       "      <td>0</td>\n",
       "      <td>2</td>\n",
       "      <td>NaN</td>\n",
       "      <td>2</td>\n",
       "      <td>24,010957999999999</td>\n",
       "      <td>2009-05-13 03:53:58</td>\n",
       "    </tr>\n",
       "    <tr>\n",
       "      <th>2</th>\n",
       "      <td>1048897</td>\n",
       "      <td>9053522</td>\n",
       "      <td>3272</td>\n",
       "      <td>3795</td>\n",
       "      <td>3140</td>\n",
       "      <td>3140</td>\n",
       "      <td>763</td>\n",
       "      <td>NaN</td>\n",
       "      <td>NaN</td>\n",
       "      <td>431</td>\n",
       "      <td>785</td>\n",
       "      <td>NaN</td>\n",
       "      <td>NaN</td>\n",
       "      <td>431</td>\n",
       "      <td>431</td>\n",
       "      <td>7</td>\n",
       "      <td>7</td>\n",
       "      <td>NaN</td>\n",
       "      <td>NaN</td>\n",
       "      <td>NaN</td>\n",
       "      <td>-1</td>\n",
       "      <td>19</td>\n",
       "      <td>109</td>\n",
       "      <td>NaN</td>\n",
       "      <td>NaN</td>\n",
       "      <td>NaN</td>\n",
       "      <td>NaN</td>\n",
       "      <td>NaN</td>\n",
       "      <td>NaN</td>\n",
       "      <td>NaN</td>\n",
       "      <td>NaN</td>\n",
       "      <td>NaN</td>\n",
       "      <td>NaN</td>\n",
       "      <td>NaN</td>\n",
       "      <td>NaN</td>\n",
       "      <td>NaN</td>\n",
       "      <td>NaN</td>\n",
       "      <td>NaN</td>\n",
       "      <td>NaN</td>\n",
       "      <td>NaN</td>\n",
       "      <td>NaN</td>\n",
       "      <td>NaN</td>\n",
       "      <td>NaN</td>\n",
       "      <td>NaN</td>\n",
       "      <td>NaN</td>\n",
       "      <td>NaN</td>\n",
       "      <td>NaN</td>\n",
       "      <td>NaN</td>\n",
       "      <td>NaN</td>\n",
       "      <td>NaN</td>\n",
       "      <td>NaN</td>\n",
       "      <td>NaN</td>\n",
       "      <td>NaN</td>\n",
       "      <td>NaN</td>\n",
       "      <td>NaN</td>\n",
       "      <td>NaN</td>\n",
       "      <td>NaN</td>\n",
       "      <td>NaN</td>\n",
       "      <td>True</td>\n",
       "      <td>False</td>\n",
       "      <td>NaN</td>\n",
       "      <td>NaN</td>\n",
       "      <td>2007-07-21 06:54:00</td>\n",
       "      <td>2007-07-21 17:37:00</td>\n",
       "      <td>2007-07-21 17:33:37</td>\n",
       "      <td>NaN</td>\n",
       "      <td>NaN</td>\n",
       "      <td>NaN</td>\n",
       "      <td>2007-07-21 07:08:04</td>\n",
       "      <td>2007-07-21 18:25:27</td>\n",
       "      <td>NaN</td>\n",
       "      <td>643</td>\n",
       "      <td>11</td>\n",
       "      <td>NaN</td>\n",
       "      <td>NaN</td>\n",
       "      <td>False</td>\n",
       "      <td>NaN</td>\n",
       "      <td>NaN</td>\n",
       "      <td>NaN</td>\n",
       "      <td>NaN</td>\n",
       "      <td>NaN</td>\n",
       "      <td>NaN</td>\n",
       "      <td>NaN</td>\n",
       "      <td>False</td>\n",
       "      <td>NaN</td>\n",
       "      <td>0</td>\n",
       "      <td>1</td>\n",
       "      <td>1</td>\n",
       "      <td>3</td>\n",
       "      <td>2</td>\n",
       "      <td>2</td>\n",
       "      <td>0</td>\n",
       "      <td>0</td>\n",
       "      <td>1</td>\n",
       "      <td>1</td>\n",
       "      <td>0</td>\n",
       "      <td>0</td>\n",
       "      <td>0</td>\n",
       "      <td>0</td>\n",
       "      <td>0</td>\n",
       "      <td>0</td>\n",
       "      <td>0</td>\n",
       "      <td>0</td>\n",
       "      <td>0</td>\n",
       "      <td>0</td>\n",
       "      <td>NaN</td>\n",
       "      <td>0</td>\n",
       "      <td>19,969836000000001</td>\n",
       "      <td>2009-02-10 15:36:41</td>\n",
       "    </tr>\n",
       "    <tr>\n",
       "      <th>3</th>\n",
       "      <td>1481210</td>\n",
       "      <td>12774621</td>\n",
       "      <td>3272</td>\n",
       "      <td>3259</td>\n",
       "      <td>3198</td>\n",
       "      <td>3198</td>\n",
       "      <td>NaN</td>\n",
       "      <td>-93</td>\n",
       "      <td>NaN</td>\n",
       "      <td>36</td>\n",
       "      <td>36</td>\n",
       "      <td>NaN</td>\n",
       "      <td>NaN</td>\n",
       "      <td>NaN</td>\n",
       "      <td>36</td>\n",
       "      <td>7</td>\n",
       "      <td>7</td>\n",
       "      <td>NaN</td>\n",
       "      <td>NaN</td>\n",
       "      <td>1.992122e+11</td>\n",
       "      <td>-1</td>\n",
       "      <td>18</td>\n",
       "      <td>97</td>\n",
       "      <td>Z039</td>\n",
       "      <td>NaN</td>\n",
       "      <td>Z039</td>\n",
       "      <td>2</td>\n",
       "      <td>9</td>\n",
       "      <td>12</td>\n",
       "      <td>17</td>\n",
       "      <td>22</td>\n",
       "      <td>NaN</td>\n",
       "      <td>NaN</td>\n",
       "      <td>NaN</td>\n",
       "      <td>41</td>\n",
       "      <td>44</td>\n",
       "      <td>NaN</td>\n",
       "      <td>54</td>\n",
       "      <td>NaN</td>\n",
       "      <td>NaN</td>\n",
       "      <td>NaN</td>\n",
       "      <td>70</td>\n",
       "      <td>NaN</td>\n",
       "      <td>NaN</td>\n",
       "      <td>NaN</td>\n",
       "      <td>NaN</td>\n",
       "      <td>NaN</td>\n",
       "      <td>NaN</td>\n",
       "      <td>NaN</td>\n",
       "      <td>NaN</td>\n",
       "      <td>NaN</td>\n",
       "      <td>NaN</td>\n",
       "      <td>NaN</td>\n",
       "      <td>NaN</td>\n",
       "      <td>NaN</td>\n",
       "      <td>NaN</td>\n",
       "      <td>NaN</td>\n",
       "      <td>NaN</td>\n",
       "      <td>True</td>\n",
       "      <td>False</td>\n",
       "      <td>K</td>\n",
       "      <td>Y83O</td>\n",
       "      <td>2015-01-31 13:29:00</td>\n",
       "      <td>2015-01-31 13:50:00</td>\n",
       "      <td>2015-01-31 13:51:21</td>\n",
       "      <td>NaN</td>\n",
       "      <td>2015-01-31 13:35:23</td>\n",
       "      <td>NaN</td>\n",
       "      <td>NaN</td>\n",
       "      <td>2015-02-01 00:20:35</td>\n",
       "      <td>NaN</td>\n",
       "      <td>21</td>\n",
       "      <td>1</td>\n",
       "      <td>6</td>\n",
       "      <td>NaN</td>\n",
       "      <td>False</td>\n",
       "      <td>NaN</td>\n",
       "      <td>NaN</td>\n",
       "      <td>NaN</td>\n",
       "      <td>NaN</td>\n",
       "      <td>NaN</td>\n",
       "      <td>NaN</td>\n",
       "      <td>NaN</td>\n",
       "      <td>False</td>\n",
       "      <td>NaN</td>\n",
       "      <td>0</td>\n",
       "      <td>1</td>\n",
       "      <td>1</td>\n",
       "      <td>1</td>\n",
       "      <td>1</td>\n",
       "      <td>0</td>\n",
       "      <td>0</td>\n",
       "      <td>1</td>\n",
       "      <td>0</td>\n",
       "      <td>0</td>\n",
       "      <td>0</td>\n",
       "      <td>0</td>\n",
       "      <td>0</td>\n",
       "      <td>0</td>\n",
       "      <td>1</td>\n",
       "      <td>0</td>\n",
       "      <td>0</td>\n",
       "      <td>0</td>\n",
       "      <td>0</td>\n",
       "      <td>0</td>\n",
       "      <td>NaN</td>\n",
       "      <td>0</td>\n",
       "      <td>18,243828000000001</td>\n",
       "      <td>2015-02-01 21:10:22</td>\n",
       "    </tr>\n",
       "    <tr>\n",
       "      <th>4</th>\n",
       "      <td>1048898</td>\n",
       "      <td>9055814</td>\n",
       "      <td>3272</td>\n",
       "      <td>3795</td>\n",
       "      <td>3151</td>\n",
       "      <td>3151</td>\n",
       "      <td>NaN</td>\n",
       "      <td>-91</td>\n",
       "      <td>NaN</td>\n",
       "      <td>557</td>\n",
       "      <td>557</td>\n",
       "      <td>NaN</td>\n",
       "      <td>NaN</td>\n",
       "      <td>NaN</td>\n",
       "      <td>557</td>\n",
       "      <td>6</td>\n",
       "      <td>7</td>\n",
       "      <td>NaN</td>\n",
       "      <td>1.972033e+11</td>\n",
       "      <td>1.946123e+11</td>\n",
       "      <td>-1</td>\n",
       "      <td>0</td>\n",
       "      <td>97</td>\n",
       "      <td>B349</td>\n",
       "      <td>NaN</td>\n",
       "      <td>B349</td>\n",
       "      <td>NaN</td>\n",
       "      <td>NaN</td>\n",
       "      <td>NaN</td>\n",
       "      <td>NaN</td>\n",
       "      <td>NaN</td>\n",
       "      <td>NaN</td>\n",
       "      <td>NaN</td>\n",
       "      <td>NaN</td>\n",
       "      <td>NaN</td>\n",
       "      <td>NaN</td>\n",
       "      <td>NaN</td>\n",
       "      <td>NaN</td>\n",
       "      <td>NaN</td>\n",
       "      <td>NaN</td>\n",
       "      <td>NaN</td>\n",
       "      <td>NaN</td>\n",
       "      <td>NaN</td>\n",
       "      <td>NaN</td>\n",
       "      <td>NaN</td>\n",
       "      <td>NaN</td>\n",
       "      <td>NaN</td>\n",
       "      <td>NaN</td>\n",
       "      <td>NaN</td>\n",
       "      <td>NaN</td>\n",
       "      <td>NaN</td>\n",
       "      <td>NaN</td>\n",
       "      <td>NaN</td>\n",
       "      <td>NaN</td>\n",
       "      <td>NaN</td>\n",
       "      <td>NaN</td>\n",
       "      <td>1</td>\n",
       "      <td>NaN</td>\n",
       "      <td>True</td>\n",
       "      <td>False</td>\n",
       "      <td>K</td>\n",
       "      <td>875O</td>\n",
       "      <td>2010-02-22 12:03:00</td>\n",
       "      <td>2010-02-22 19:02:00</td>\n",
       "      <td>2010-02-22 19:03:00</td>\n",
       "      <td>NaN</td>\n",
       "      <td>2010-02-22 12:12:15</td>\n",
       "      <td>2010-02-22 19:07:00</td>\n",
       "      <td>NaN</td>\n",
       "      <td>2010-02-22 19:07:00</td>\n",
       "      <td>NaN</td>\n",
       "      <td>419</td>\n",
       "      <td>7</td>\n",
       "      <td>NaN</td>\n",
       "      <td>NaN</td>\n",
       "      <td>False</td>\n",
       "      <td>NaN</td>\n",
       "      <td>NaN</td>\n",
       "      <td>NaN</td>\n",
       "      <td>NaN</td>\n",
       "      <td>NaN</td>\n",
       "      <td>NaN</td>\n",
       "      <td>NaN</td>\n",
       "      <td>False</td>\n",
       "      <td>NaN</td>\n",
       "      <td>0</td>\n",
       "      <td>1</td>\n",
       "      <td>1</td>\n",
       "      <td>1</td>\n",
       "      <td>1</td>\n",
       "      <td>0</td>\n",
       "      <td>0</td>\n",
       "      <td>0</td>\n",
       "      <td>0</td>\n",
       "      <td>0</td>\n",
       "      <td>0</td>\n",
       "      <td>0</td>\n",
       "      <td>0</td>\n",
       "      <td>0</td>\n",
       "      <td>1</td>\n",
       "      <td>0</td>\n",
       "      <td>0</td>\n",
       "      <td>0</td>\n",
       "      <td>0</td>\n",
       "      <td>1</td>\n",
       "      <td>NaN</td>\n",
       "      <td>1</td>\n",
       "      <td>0,90134499999999995</td>\n",
       "      <td>2010-02-22 23:56:35</td>\n",
       "    </tr>\n",
       "  </tbody>\n",
       "</table>\n",
       "</div>"
      ],
      "text/plain": [
       "   AkutliggareID     PasID  AnkomstsattID  ProblemorsakID  BesoksorsakID  \\\n",
       "0        1048895   9045567           3272            3795           3152   \n",
       "1        1048896   9048297           3272            3795           3140   \n",
       "2        1048897   9053522           3272            3795           3140   \n",
       "3        1481210  12774621           3272            3259           3198   \n",
       "4        1048898   9055814           3272            3795           3151   \n",
       "\n",
       "   ForstaBesoksorsakID  FlyttadTillVardenhetID  FlyttadTillLokationID  \\\n",
       "0                 3152                     NaN                    -91   \n",
       "1                 3140                     NaN                    -91   \n",
       "2                 3140                     763                    NaN   \n",
       "3                 3198                     NaN                    -93   \n",
       "4                 3151                     NaN                    -91   \n",
       "\n",
       "   VardbehovID  VardenhetID  ForstaVardenhetID  ForstaSlutenvardVardenhetID  \\\n",
       "0          NaN           40                 40                          NaN   \n",
       "1          NaN           39                 39                          NaN   \n",
       "2          NaN          431                785                          NaN   \n",
       "3          NaN           36                 36                          NaN   \n",
       "4          NaN          557                557                          NaN   \n",
       "\n",
       "   AndraSlutenvardVardenhetID  SenasteKonsulteradeVardenhetID  \\\n",
       "0                         NaN                             NaN   \n",
       "1                         NaN                             NaN   \n",
       "2                         NaN                             431   \n",
       "3                         NaN                             NaN   \n",
       "4                         NaN                             NaN   \n",
       "\n",
       "   SenasteAnsvarigaVardenhetID  PrioritetInID  PrioritetUtID  \\\n",
       "0                           40              7              7   \n",
       "1                           39              7              7   \n",
       "2                          431              7              7   \n",
       "3                           36              7              7   \n",
       "4                          557              6              7   \n",
       "\n",
       "   ForstaAnsvarigaLakareID  SenasteAnsvarigaLakareID  ForstaSkoterskaID  \\\n",
       "0                      NaN                       NaN                NaN   \n",
       "1             1.979031e+11              1.979031e+11       1.983110e+11   \n",
       "2                      NaN                       NaN                NaN   \n",
       "3                      NaN                       NaN       1.992122e+11   \n",
       "4                      NaN              1.972033e+11       1.946123e+11   \n",
       "\n",
       "   RegistreringsstatusID  AlderID  BesokstypID DiagnoskodOppenvard  \\\n",
       "0                     -1       16           97                M796   \n",
       "1                     -1       24           97                K590   \n",
       "2                     -1       19          109                 NaN   \n",
       "3                     -1       18           97                Z039   \n",
       "4                     -1        0           97                B349   \n",
       "\n",
       "  DiagnoskodSlutenvard Diagnoskod  AndningsfrekvensStatusID  \\\n",
       "0                  NaN       M796                       NaN   \n",
       "1                  NaN       K590                       NaN   \n",
       "2                  NaN        NaN                       NaN   \n",
       "3                  NaN       Z039                         2   \n",
       "4                  NaN       B349                       NaN   \n",
       "\n",
       "   SaturationStatusID  KroppstemperaturStatusID  \\\n",
       "0                 NaN                       NaN   \n",
       "1                 NaN                       NaN   \n",
       "2                 NaN                       NaN   \n",
       "3                   9                        12   \n",
       "4                 NaN                       NaN   \n",
       "\n",
       "   BlodtryckSystolisktOvreStatusID  BlodtryckDiastolisktNedreStatusID  \\\n",
       "0                              NaN                                NaN   \n",
       "1                              NaN                                NaN   \n",
       "2                              NaN                                NaN   \n",
       "3                               17                                 22   \n",
       "4                              NaN                                NaN   \n",
       "\n",
       "   GCSOgonoppningStatusID  GCSMotorisktStatusID  GCSVerbaltStatusID  \\\n",
       "0                     NaN                   NaN                 NaN   \n",
       "1                     NaN                   NaN                 NaN   \n",
       "2                     NaN                   NaN                 NaN   \n",
       "3                     NaN                   NaN                 NaN   \n",
       "4                     NaN                   NaN                 NaN   \n",
       "\n",
       "   StridorStatusID  PulsfrekvensRegelbundenStatusID  \\\n",
       "0              NaN                              NaN   \n",
       "1              NaN                              NaN   \n",
       "2              NaN                              NaN   \n",
       "3               41                               44   \n",
       "4              NaN                              NaN   \n",
       "\n",
       "   PulsfrekvensOregelbundenStatusID  MedvetandegradRettsStatusID  \\\n",
       "0                               NaN                          NaN   \n",
       "1                               NaN                          NaN   \n",
       "2                               NaN                          NaN   \n",
       "3                               NaN                           54   \n",
       "4                               NaN                          NaN   \n",
       "\n",
       "   SaturationMedSyrgasStatusID  GCSTotalStatusID  KrampanfallStatusID  \\\n",
       "0                          NaN               NaN                  NaN   \n",
       "1                          NaN               NaN                  NaN   \n",
       "2                          NaN               NaN                  NaN   \n",
       "3                          NaN               NaN                  NaN   \n",
       "4                          NaN               NaN                  NaN   \n",
       "\n",
       "   LuftvagsstatusRettsStatusID  BLeukocyterStatusID  BErytrocyterStatusID  \\\n",
       "0                          NaN                  NaN                   NaN   \n",
       "1                          NaN                  NaN                   NaN   \n",
       "2                          NaN                  NaN                   NaN   \n",
       "3                           70                  NaN                   NaN   \n",
       "4                          NaN                  NaN                   NaN   \n",
       "\n",
       "   BHemoglobinStatusID  BEVFStatusID  ErcBMCVStatusID  ErcBMCHStatusID  \\\n",
       "0                  NaN           NaN              NaN              NaN   \n",
       "1                  NaN           NaN              NaN              NaN   \n",
       "2                  NaN           NaN              NaN              NaN   \n",
       "3                  NaN           NaN              NaN              NaN   \n",
       "4                  NaN           NaN              NaN              NaN   \n",
       "\n",
       "   ErcBMCHCStatusID  BTrombocyterStatusID  PGlukosStatusID  PCRPStatusID  \\\n",
       "0               NaN                   NaN              NaN           NaN   \n",
       "1               NaN                   NaN              NaN           NaN   \n",
       "2               NaN                   NaN              NaN           NaN   \n",
       "3               NaN                   NaN              NaN           NaN   \n",
       "4               NaN                   NaN              NaN           NaN   \n",
       "\n",
       "   PNatriumStatusID  PKaliumStatusID  PKreatininStatusID  PTroponinTStatusID  \\\n",
       "0               NaN              NaN                 NaN                 NaN   \n",
       "1               NaN              NaN                 NaN                 NaN   \n",
       "2               NaN              NaN                 NaN                 NaN   \n",
       "3               NaN              NaN                 NaN                 NaN   \n",
       "4               NaN              NaN                 NaN                 NaN   \n",
       "\n",
       "   AnsvarigtVardlag  KonsulteratVardlag  Klar TroligInskrivning Produkttyp  \\\n",
       "0               NaN                 NaN  True             False          N   \n",
       "1               NaN                 NaN  True             False          K   \n",
       "2               NaN                 NaN  True             False        NaN   \n",
       "3               NaN                 NaN  True             False          K   \n",
       "4                 1                 NaN  True             False          K   \n",
       "\n",
       "  Produktkod      Ankomsttidpunkt Utskrivningstidpunkt TidregistreringUtTill  \\\n",
       "0       821O  2007-03-27 15:30:00  2007-03-27 20:13:00   2007-03-27 20:13:26   \n",
       "1       803O  2009-05-12 10:29:00  2009-05-12 11:53:00   2009-05-12 11:53:39   \n",
       "2        NaN  2007-07-21 06:54:00  2007-07-21 17:37:00   2007-07-21 17:33:37   \n",
       "3       Y83O  2015-01-31 13:29:00  2015-01-31 13:50:00   2015-01-31 13:51:21   \n",
       "4       875O  2010-02-22 12:03:00  2010-02-22 19:02:00   2010-02-22 19:03:00   \n",
       "\n",
       "  ForstaAnsvarigaLakareTidpunkt ForstaSkoterskaTidpunkt  \\\n",
       "0                           NaN                     NaN   \n",
       "1           2009-05-12 11:04:00     2009-05-12 11:00:09   \n",
       "2                           NaN                     NaN   \n",
       "3                           NaN     2015-01-31 13:35:23   \n",
       "4                           NaN     2010-02-22 12:12:15   \n",
       "\n",
       "  SenasteAnsvarigaLakareTidpunkt SenasteKonsulteradeVardenhetTidpunkt  \\\n",
       "0                            NaN                                  NaN   \n",
       "1            2009-05-12 12:25:15                                  NaN   \n",
       "2                            NaN                  2007-07-21 07:08:04   \n",
       "3                            NaN                                  NaN   \n",
       "4            2010-02-22 19:07:00                                  NaN   \n",
       "\n",
       "  SenasteAnsvarigaVardenhetTidpunkt  TidTillLakareMinuter  VistelsetidMinuter  \\\n",
       "0               2007-03-27 20:36:44                   NaN                 283   \n",
       "1               2009-05-12 12:25:15                    35                  84   \n",
       "2               2007-07-21 18:25:27                   NaN                 643   \n",
       "3               2015-02-01 00:20:35                   NaN                  21   \n",
       "4               2010-02-22 19:07:00                   NaN                 419   \n",
       "\n",
       "   VistelsetidPaborjadeTimmar  VantetidTriageMinuter  HandlaggningstidMinuter  \\\n",
       "0                           5                    NaN                      NaN   \n",
       "1                           2                    NaN                       49   \n",
       "2                          11                    NaN                      NaN   \n",
       "3                           1                      6                      NaN   \n",
       "4                           7                    NaN                      NaN   \n",
       "\n",
       "  Rontgen  RontgenTidTillRemiss  RontgenTidTillUndersokningSlut  \\\n",
       "0   False                   NaN                             NaN   \n",
       "1   False                   NaN                             NaN   \n",
       "2   False                   NaN                             NaN   \n",
       "3   False                   NaN                             NaN   \n",
       "4   False                   NaN                             NaN   \n",
       "\n",
       "   RontgenTidTillForstaSvar  Lab  LabTidTillProvtagning  LabTidTillForstaSvar  \\\n",
       "0                       NaN  NaN                    NaN                   NaN   \n",
       "1                       NaN  NaN                    NaN                   NaN   \n",
       "2                       NaN  NaN                    NaN                   NaN   \n",
       "3                       NaN  NaN                    NaN                   NaN   \n",
       "4                       NaN  NaN                    NaN                   NaN   \n",
       "\n",
       "   LabTidTillAnkomstLab Intensiv  TidTillIntensiv  AntalIntensivInom72Timmar  \\\n",
       "0                   NaN    False              NaN                          0   \n",
       "1                   NaN    False              NaN                          0   \n",
       "2                   NaN    False              NaN                          0   \n",
       "3                   NaN    False              NaN                          0   \n",
       "4                   NaN    False              NaN                          0   \n",
       "\n",
       "   AntalIn  AntalUt  AntalInvolveradeEnheter  AntalAnsvarigaEnheter  \\\n",
       "0        1        1                        1                      1   \n",
       "1        1        1                        1                      1   \n",
       "2        1        1                        3                      2   \n",
       "3        1        1                        1                      1   \n",
       "4        1        1                        1                      1   \n",
       "\n",
       "   AntalKonsulteradeEnheter  AntalTillLakareInom40Minuter  \\\n",
       "0                         0                             0   \n",
       "1                         0                             1   \n",
       "2                         2                             0   \n",
       "3                         0                             0   \n",
       "4                         0                             0   \n",
       "\n",
       "   AntalKlarInom4Timmar  AntalEjKlarInom8Timmar  \\\n",
       "0                     0                       0   \n",
       "1                     1                       0   \n",
       "2                     0                       1   \n",
       "3                     1                       0   \n",
       "4                     0                       0   \n",
       "\n",
       "   AntalVistelsetid8Till12Timmar  AntalVistelsetid12Till16Timmar  \\\n",
       "0                              0                               0   \n",
       "1                              0                               0   \n",
       "2                              1                               0   \n",
       "3                              0                               0   \n",
       "4                              0                               0   \n",
       "\n",
       "   AntalVistelsetidOver16Timmar  AntalUtanforRettsTidsriktlinje  \\\n",
       "0                             0                               0   \n",
       "1                             0                               0   \n",
       "2                             0                               0   \n",
       "3                             0                               0   \n",
       "4                             0                               0   \n",
       "\n",
       "   AntalAterbesokInom72Timmar  AntalBesok  AntalAvlidnaInom7Dagar  \\\n",
       "0                           0           1                       0   \n",
       "1                           0           1                       0   \n",
       "2                           0           0                       0   \n",
       "3                           0           1                       0   \n",
       "4                           0           1                       0   \n",
       "\n",
       "   AntalAvlidnaInom30Dagar  AntalSlutenvardInom6Timmar  \\\n",
       "0                        0                           0   \n",
       "1                        0                           0   \n",
       "2                        0                           0   \n",
       "3                        0                           0   \n",
       "4                        0                           0   \n",
       "\n",
       "   AntalSlutenvardInom12Timmar  AntalDiagnoserOppenvard  \\\n",
       "0                            0                        1   \n",
       "1                            0                        2   \n",
       "2                            0                        0   \n",
       "3                            0                        0   \n",
       "4                            0                        1   \n",
       "\n",
       "   AntalDiagnoserSlutenvard  AntalDiagnoser                Alder  \\\n",
       "0                       NaN               1   16,726006999999999   \n",
       "1                       NaN               2   24,010957999999999   \n",
       "2                       NaN               0   19,969836000000001   \n",
       "3                       NaN               0   18,243828000000001   \n",
       "4                       NaN               1  0,90134499999999995   \n",
       "\n",
       "      SenastUppdaterad  \n",
       "0  2009-02-22 03:35:25  \n",
       "1  2009-05-13 03:53:58  \n",
       "2  2009-02-10 15:36:41  \n",
       "3  2015-02-01 21:10:22  \n",
       "4  2010-02-22 23:56:35  "
      ]
     },
     "execution_count": 11,
     "metadata": {},
     "output_type": "execute_result"
    }
   ],
   "source": [
    "data.head()"
   ]
  },
  {
   "cell_type": "markdown",
   "metadata": {},
   "source": [
    "Create a column which we will predict in the future"
   ]
  },
  {
   "cell_type": "code",
   "execution_count": 12,
   "metadata": {
    "collapsed": false
   },
   "outputs": [],
   "source": [
    "first_care_unit = data.ForstaSlutenvardVardenhetID\n",
    "\n",
    "data['Inpatient'] = ~first_care_unit.isnull() & (first_care_unit != 0)"
   ]
  },
  {
   "cell_type": "markdown",
   "metadata": {},
   "source": [
    "Convert string to date"
   ]
  },
  {
   "cell_type": "code",
   "execution_count": 13,
   "metadata": {
    "collapsed": true
   },
   "outputs": [],
   "source": [
    "import dateutil.parser as duparse\n",
    "\n",
    "data['Date'] = data['Ankomsttidpunkt'].map(lambda s: duparse.parse(s))\n",
    "data['Hour'] = data['Date'].dt.hour\n",
    "data['Weekday'] = data['Date'].dt.dayofweek\n",
    "data['Month'] = data['Date'].dt.month"
   ]
  },
  {
   "cell_type": "markdown",
   "metadata": {},
   "source": [
    "Input columns are columns which we can use to predict the outcode. "
   ]
  },
  {
   "cell_type": "code",
   "execution_count": 14,
   "metadata": {
    "collapsed": false
   },
   "outputs": [],
   "source": [
    "general_columns = ['AnkomstsattID', 'ProblemorsakID', 'BesoksorsakID', 'PrioritetInID', 'Alder',\n",
    "                   'Hour', 'Weekday', 'Month']\n",
    "\n",
    "\n",
    "triage_columns = ['AndningsfrekvensStatusID', 'SaturationStatusID', 'KroppstemperaturStatusID', \n",
    "                   'BlodtryckSystolisktOvreStatusID', 'BlodtryckDiastolisktNedreStatusID', 'GCSOgonoppningStatusID',\n",
    "                   'GCSMotorisktStatusID', 'GCSVerbaltStatusID', 'StridorStatusID', 'PulsfrekvensRegelbundenStatusID',\n",
    "                   'PulsfrekvensOregelbundenStatusID', 'MedvetandegradRettsStatusID', 'SaturationMedSyrgasStatusID']\n",
    "\n",
    "\n",
    "\n",
    "\n",
    "\n",
    "input_columns = general_columns + triage_columns\n",
    "\n",
    "output_column = 'Inpatient'"
   ]
  },
  {
   "cell_type": "code",
   "execution_count": 15,
   "metadata": {
    "collapsed": false
   },
   "outputs": [],
   "source": [
    "# Scaling triage features to range\n",
    "dfTriage = data[triage_columns]\n",
    "for col in triage_columns:\n",
    "    data[col] = data[col] - (data[col].min() - 1)\n",
    "    \n",
    "    \n",
    "\n",
    "\n",
    "orgdata = data\n",
    "orgdata['Alder'] = orgdata.Alder.map(lambda a: float(str(a).replace(',', '.')))\n",
    "\n"
   ]
  },
  {
   "cell_type": "markdown",
   "metadata": {},
   "source": [
    "Replace NaNs and nulls with -10 so that libraries which don't work well with NaNs will accept our dataset"
   ]
  },
  {
   "cell_type": "code",
   "execution_count": null,
   "metadata": {
    "collapsed": false
   },
   "outputs": [
    {
     "name": "stdout",
     "output_type": "stream",
     "text": [
      "('checking NaN', 'AnkomstsattID')\n",
      "('checking NaN', 'ProblemorsakID')\n",
      "('transforming', 'ProblemorsakID')"
     ]
    }
   ],
   "source": [
    "data['Alder'] = data.Alder.map(lambda a: float(str(a).replace(',', '.')))\n",
    "\n",
    "from sklearn.preprocessing import Imputer\n",
    "# let us adopt the most frequent value replacement in case there are really terrible outliers\n",
    "# for mean or median methods\n",
    "imp = Imputer(missing_values='NaN', strategy='most_frequent', axis=0)\n",
    "\n",
    "for col in input_columns:\n",
    "    print ('checking NaN' , col)\n",
    "    # we check whether there is a NaN value or not\n",
    "    if data[[col]].isnull().any().sum() > 0 :\n",
    "        print (\"transforming\" , col)\n",
    "        x=  imp.fit_transform(data[col])\n",
    "        data[col] = x\n"
   ]
  },
  {
   "cell_type": "code",
   "execution_count": null,
   "metadata": {
    "collapsed": false
   },
   "outputs": [],
   "source": [
    "np.random.seed(921)\n",
    "mask = np.random.choice([0, 1], data.shape[0], p=[0.1, 0.9])\n",
    "\n",
    "test_data = data[mask == 0].copy()\n",
    "train_data = data[mask == 1].copy()"
   ]
  },
  {
   "cell_type": "markdown",
   "metadata": {},
   "source": [
    "# 3. EDA"
   ]
  },
  {
   "cell_type": "markdown",
   "metadata": {},
   "source": [
    "The Er Log the project has access to has 100+ fields and one defensive initial idea are to focus on the triage data. The first examination plus the medical history of the patient are what nurses and doctor are using to assess the status of a patient and also to give a patient an initial priority. Many Swedish hospital is using Retts (http://predicare.se/en/om-retts/) decision support system for emergency medicine when assessing the patients and at the time of assessment a number of vital parameters are collected.\n",
    "\n",
    "In that way the project piggy rides on the domain knowledge of the organisation and try to use features that they use. We will see if that is a good or bad idea, but we can always extend with more features later on. We only have access to the ER log and not the medical history of the patients and there already from the beginning we have some limitations that most probably will affect the precision of our predictions. In addition to that we do not get the “touch and feel” a nurse and doctor get’s when talking to a patient, they can use their hands to feel body temperature, sweating and pinpoint things like abdominal pains etc.\n",
    "\n",
    "The vital parameters that we have access to are \n",
    "\n",
    "* Breathing frequency\n",
    "* Saturation Status\n",
    "* Body temperature \n",
    "* Bllodpressure Systolic Upper \n",
    "* Blood pressure Systolic Lower \n",
    "* GCS Eye opening Status \n",
    "* GCS Motoric Status\n",
    "* GCS Verbal Status\n",
    "* Stridor Status\n",
    "* Pulse frequency regular\n",
    "* Pulse frequency irregular \n",
    "* Consciousness Retts scale status \n",
    "* Saturation with oxygen status\n",
    "\n",
    "In addition to that we will use patient Age and hopefully Gender (Gender was not part of the initial dataset )\n",
    "(by Kostya. We actually can use time of the day and month of the year as predictors, I am sure there're seasonal\n",
    "changes in different diagnoses)\n",
    "\n",
    "We aim to predict if a patient will need further care and become an Inpatient. The diagram below shows the relation between Inpatients and Others. Others include people going home  and outpatients. The main difference between an outpatient and an inpatient from a hospital logistics perspective is that the inpatients stays overnight and requires more resources. An outpatient may have an appointment at the hospital for example the following day or a week later for check up but their direct interaction (and use of resources) with the hospital is relatively brief."
   ]
  },
  {
   "cell_type": "markdown",
   "metadata": {},
   "source": [
    "## Inpatient / Outpatient distribution"
   ]
  },
  {
   "cell_type": "code",
   "execution_count": null,
   "metadata": {
    "collapsed": false
   },
   "outputs": [],
   "source": [
    "ct = pd.crosstab(data['Date'].dt.year, data['Inpatient'])\n",
    "ct.index.name = 'Year'\n",
    "ct"
   ]
  },
  {
   "cell_type": "code",
   "execution_count": null,
   "metadata": {
    "collapsed": false
   },
   "outputs": [],
   "source": [
    "plt.bar(ct.index.values, ct[True], width=0.4, color='blue', label='Inpatient')\n",
    "plt.bar(ct.index.values + 0.4, ct[False], width=0.4, color='darkblue', label='Outpatient')\n",
    "plt.xticks([2013, 2014, 2015], ['2013', '2014'])\n",
    "plt.xlabel('Year')\n",
    "\n",
    "plt.legend()"
   ]
  },
  {
   "cell_type": "markdown",
   "metadata": {},
   "source": [
    "## Summary statistics of different predictor columns\n",
    "\n"
   ]
  },
  {
   "cell_type": "code",
   "execution_count": null,
   "metadata": {
    "collapsed": false
   },
   "outputs": [],
   "source": [
    "train_data[input_columns].describe()"
   ]
  },
  {
   "cell_type": "markdown",
   "metadata": {},
   "source": [
    "## Distribution of predictor columns by inpatient status"
   ]
  },
  {
   "cell_type": "code",
   "execution_count": null,
   "metadata": {
    "collapsed": false
   },
   "outputs": [],
   "source": [
    "def plot_column(ax, col):\n",
    "    sns.distplot(train_data[col][train_data.Inpatient == 1], kde=False, ax=ax, label='Inpatient', norm_hist=True)\n",
    "    sns.distplot(train_data[col][train_data.Inpatient == 0], kde=False, ax=ax, label='Other', norm_hist=True)\n",
    "    ax.legend()\n",
    "\n",
    "fig, axes = plt.subplots(nrows=8, ncols=3, sharex=False, sharey=False, figsize=(10, 10))\n",
    "fig.tight_layout()\n",
    "\n",
    "for ax, col in zip(axes.ravel(), input_columns):\n",
    "    plot_column(ax, col)"
   ]
  },
  {
   "cell_type": "markdown",
   "metadata": {},
   "source": [
    "Almost all columns, have substantially different distributions for both cases. The most promising vars are:\n",
    "\n",
    "* AndningsfrekvensStatusID\n",
    "* BlodtryckSystolisktOvreStatusID\n",
    "* BlodtryckDiastolisktNedreStatusID\n",
    "* StridorStatusID\n",
    "* Alder"
   ]
  },
  {
   "cell_type": "code",
   "execution_count": null,
   "metadata": {
    "collapsed": true
   },
   "outputs": [],
   "source": [
    "promising_inputs = ['AndningsfrekvensStatusID', 'BlodtryckSystolisktOvreStatusID', \n",
    "                    'BlodtryckDiastolisktNedreStatusID', 'StridorStatusID', 'Alder']"
   ]
  },
  {
   "cell_type": "markdown",
   "metadata": {},
   "source": [
    "Triage feature discretization\n",
    "Triage features in the dataset has been discretizationazed already in the source system using a common reference table. To simplify downstream handling of triage variables we normalize them by subtracting one less than the min value from every triage variable value.\n",
    "\n",
    "See also https://en.wikipedia.org/wiki/Discretization_of_continuous_features"
   ]
  },
  {
   "cell_type": "markdown",
   "metadata": {},
   "source": [
    "## Pairplot"
   ]
  },
  {
   "cell_type": "markdown",
   "metadata": {},
   "source": [
    "Let's draw a pairplot for the most promising vars. We use a sample from the data bacause sns.pairplot doesn't work well a large number of points. "
   ]
  },
  {
   "cell_type": "code",
   "execution_count": null,
   "metadata": {
    "collapsed": false,
    "scrolled": false
   },
   "outputs": [],
   "source": [
    "sample_data = train_data.sample(n=200, replace=True, random_state=72)\n",
    "\n",
    "sns.pairplot(sample_data, vars=promising_inputs, hue='Inpatient', size=3)"
   ]
  },
  {
   "cell_type": "markdown",
   "metadata": {},
   "source": [
    "On the pairplots we see that there're some places when we see one kind of patients more often than others. However, nothing conclusive can be made from this chart."
   ]
  },
  {
   "cell_type": "markdown",
   "metadata": {},
   "source": [
    "## A case of missing values \n",
    "\n",
    "Theory \n",
    "Missing data impacts learning, inference, and prediction (in relation to machine learning methods). \n",
    "\n",
    "Two base categories of missing data: \n",
    "\n",
    "* Data that is missing at random\n",
    "Randomly missing data can be ignores and inference can be based on the observed data only. \n",
    "\n",
    "    \n",
    "* Data that is not missing at random\n",
    "Ignoring missing data leads to bias, one reason is that some features depend on each other\n",
    "    \n",
    "These base categories can be divided further into sub categories but the point here \n",
    "is that it is very hard to prove that data is randomly missing so we need a method to deal with the missing data. Also most classifiers have no natural ability to deal with missing data.\n",
    "\n",
    "References:\n",
    "http://www.cs.toronto.edu/~marlin/research/phd_thesis/marlin-phd-thesis.pdf, Benjamin M. Marlin, Page 1\n",
    "\n",
    "http://www.stat.columbia.edu/~gelman/arm/missing.pdf\n",
    "\n",
    "### General strategies\n",
    "\n",
    "   \n",
    "    \n",
    "#### Complete case analysis\n",
    "Delete all cases where we do not have full data. The problem with this is that we would introduce bias, a practical example from this project is that if we would use complete case analysis as a strategy with the features we have selected (primarily variables determined at triage time) we would only have patients who were measured against GCS, Glasgow Coma Scale, and if a patient(case) is so measured they are in most of the cases already in a bad condition so any predictions would be biased.\n",
    "\n",
    "\n",
    "#### Imputation \n",
    "Fill in missing values or with another wording: imputate the values. One easy approach would be to  use the mean but that would have it's own  problems for example that the standard deviation would be underestimated. We can also hook into scikit-learnspreprocessing Imputer class to try out various fill in strategies.\n",
    "\n",
    "\n",
    "#### Random forests and missing values\n",
    "\n",
    "Missing value replacement for the training set\n",
    "https://www.stat.berkeley.edu/~breiman/RandomForests/cc_home.htm#missing1\n",
    "( Random Forests, Leo Breiman and Adele Cutler)\n",
    "\n",
    "\n"
   ]
  },
  {
   "cell_type": "code",
   "execution_count": null,
   "metadata": {
    "collapsed": false
   },
   "outputs": [],
   "source": [
    "##Missing values in numbers\n",
    "\n",
    "if len(dfTriage) != len(data):\n",
    "    print \"You messed up the data\"\n",
    "\n",
    "dfTriageMissing =   dfTriage.isnull().sum()\n",
    "\n",
    "#print dfTriageMissing.index\n",
    "\n",
    "xticks=dfTriageMissing.index\n",
    "xvalues=dfTriageMissing.values\n",
    "\n",
    "\n",
    "plotdata = {'Missing triage data' : pd.Series(xvalues, index=xticks) }\n",
    "dfPlot = pd.DataFrame(plotdata)\n",
    "\n",
    "c = 'Missing triage data'\n",
    "dfPlot[c].plot(kind='bar',title=c)\n",
    "plt.ylabel('Number of missing values')\n",
    "plt.xlabel('Triage feature')\n",
    "plt.grid(False)\n",
    "x1,x2,y1,y2 = plt.axis()\n",
    "plt.axis((x1,x2,0,len(dfTriage)))\n",
    "plt.show()\n",
    "\n",
    "\n",
    "\n"
   ]
  },
  {
   "cell_type": "code",
   "execution_count": null,
   "metadata": {
    "collapsed": false
   },
   "outputs": [],
   "source": [
    "import math\n",
    "xticks=dfTriageMissing.index\n",
    "xvalues=(dfTriageMissing.values/(len(dfTriage)*1.0))*100.0\n",
    "\n",
    "\n",
    "plotdata = {'Missing triage data' : pd.Series(xvalues, index=xticks) }\n",
    "dfPlot = pd.DataFrame(plotdata)\n",
    "\n",
    "c = 'Missing triage data'\n",
    "dfPlot[c].plot(kind='bar',title=c)\n",
    "plt.ylabel('% of missing values')\n",
    "plt.xlabel('Triage feature')\n",
    "plt.grid(False)\n",
    "x1,x2,y1,y2 = plt.axis()\n",
    "plt.axis((x1,x2,0,100))\n",
    "plt.axhline(y=60,color='g')\n",
    "plt.show()\n"
   ]
  },
  {
   "cell_type": "code",
   "execution_count": null,
   "metadata": {
    "collapsed": false
   },
   "outputs": [],
   "source": [
    "# Show variable distribution before imputation\n",
    "\n",
    "# FIX THE BINS!!!\n",
    "\n",
    "subdata = data[pd.notnull(data['AndningsfrekvensStatusID'])]\n",
    "varsubdata = subdata['AndningsfrekvensStatusID']\n",
    "\n",
    "binwidth = 1\n",
    "bins=range(min(varsubdata).astype(np.int64), max(varsubdata).astype(np.int64) + binwidth, binwidth)\n",
    "\n",
    "plt.hist(varsubdata, bins=bins,normed=1, histtype='bar')\n",
    "plt.title(\"Andningsfrekvens\")\n",
    "plt.xlabel(\"Value\")\n",
    "plt.ylabel(\"Frequency\")\n",
    "plt.show()"
   ]
  },
  {
   "cell_type": "code",
   "execution_count": null,
   "metadata": {
    "collapsed": true
   },
   "outputs": [],
   "source": []
  },
  {
   "cell_type": "code",
   "execution_count": null,
   "metadata": {
    "collapsed": true
   },
   "outputs": [],
   "source": [
    "# Show variable distribution afters scikit imputation"
   ]
  },
  {
   "cell_type": "markdown",
   "metadata": {},
   "source": [
    "# 4. Predictions"
   ]
  },
  {
   "cell_type": "markdown",
   "metadata": {},
   "source": [
    "let's prepare sklearn compatible input:"
   ]
  },
  {
   "cell_type": "code",
   "execution_count": null,
   "metadata": {
    "collapsed": false
   },
   "outputs": [],
   "source": [
    "train_data_in = train_data[input_columns]\n",
    "train_data_out = train_data[output_column]\n",
    "\n",
    "test_data_in = test_data[input_columns]\n",
    "test_data_out = test_data[output_column]"
   ]
  },
  {
   "cell_type": "markdown",
   "metadata": {},
   "source": [
    "Utility to train classifiers"
   ]
  },
  {
   "cell_type": "code",
   "execution_count": null,
   "metadata": {
    "collapsed": false
   },
   "outputs": [],
   "source": [
    "def train(cls, sample_size=-1):\n",
    "    if sample_size == -1:\n",
    "        inp = train_data_in\n",
    "        out = train_data_out\n",
    "    else:\n",
    "        indicies = np.arange(len(train_data_in))\n",
    "        np.random.shuffle(indicies)\n",
    "        indicies = indicies[0:(sample_size - 1)]\n",
    "        \n",
    "        inp = train_data_in.iloc[indicies]\n",
    "        out = train_data_out.iloc[indicies]\n",
    "    \n",
    "    cls.fit(inp, out)\n",
    "    score = cls.score(test_data_in, test_data_out)\n",
    "    return cls, score"
   ]
  },
  {
   "cell_type": "markdown",
   "metadata": {},
   "source": [
    "As a baseline we consider a model which always predicts that the patient is inpatient. It's not exactly correct, since the cost of sending home a patient who's seriously ill very high. But, we can use it as a simple comparison baseline"
   ]
  },
  {
   "cell_type": "code",
   "execution_count": null,
   "metadata": {
    "collapsed": false
   },
   "outputs": [],
   "source": [
    "1 - np.mean(train_data_out)"
   ]
  },
  {
   "cell_type": "markdown",
   "metadata": {},
   "source": [
    "## Random tree"
   ]
  },
  {
   "cell_type": "code",
   "execution_count": null,
   "metadata": {
    "collapsed": false
   },
   "outputs": [],
   "source": [
    "decision_tree, dt_score = train(tree.DecisionTreeClassifier())\n",
    "print dt_score"
   ]
  },
  {
   "cell_type": "markdown",
   "metadata": {},
   "source": [
    "## Random forests"
   ]
  },
  {
   "cell_type": "code",
   "execution_count": null,
   "metadata": {
    "collapsed": false
   },
   "outputs": [],
   "source": [
    "rf, rf_score = train(ensemble.RandomForestClassifier(class_weight='subsample'))\n",
    "print rf_score"
   ]
  },
  {
   "cell_type": "markdown",
   "metadata": {},
   "source": [
    "## Logistic regression"
   ]
  },
  {
   "cell_type": "code",
   "execution_count": null,
   "metadata": {
    "collapsed": false
   },
   "outputs": [],
   "source": [
    "log_reg, lr_score = train(linear_model.LogisticRegression())\n",
    "print lr_score"
   ]
  },
  {
   "cell_type": "markdown",
   "metadata": {},
   "source": [
    "## Linear SVM"
   ]
  },
  {
   "cell_type": "code",
   "execution_count": null,
   "metadata": {
    "collapsed": false
   },
   "outputs": [],
   "source": [
    "lsvm_c, lsvm_c_score = train(svm.LinearSVC())\n",
    "print lsvm_c_score"
   ]
  },
  {
   "cell_type": "markdown",
   "metadata": {},
   "source": [
    "## SVM"
   ]
  },
  {
   "cell_type": "markdown",
   "metadata": {},
   "source": [
    "*TODO*"
   ]
  },
  {
   "cell_type": "markdown",
   "metadata": {},
   "source": [
    "## ROC Curves"
   ]
  },
  {
   "cell_type": "code",
   "execution_count": 55,
   "metadata": {
    "collapsed": false
   },
   "outputs": [
    {
     "data": {
      "image/png": "[encoded data removed]",
      "text/plain": [
       "<matplotlib.figure.Figure at 0x7f87a2f7fb50>"
      ]
     },
     "metadata": {},
     "output_type": "display_data"
    }
   ],
   "source": [
    "def draw_roc(cls, label):\n",
    "    if ('predict_proba' in dir(cls)):\n",
    "        fpr, tpr, thresh = metrics.roc_curve(test_data_out, cls.predict_proba(test_data_in)[:,1])\n",
    "    else:\n",
    "        fpr, tpr, thresh = metrics.roc_curve(test_data_out, cls.decision_function(test_data_in))\n",
    "    auc = metrics.auc(fpr, tpr)\n",
    "\n",
    "    plt.plot(fpr, tpr, label=(label + '(AUC = {0:.2f})'.format(auc)))\n",
    "\n",
    "    plt.xlabel('fpr')\n",
    "    plt.ylabel('tpr')\n",
    "    plt.xlim([0, 1.0])\n",
    "    plt.ylim([0, 1.0])\n",
    "    \n",
    "    plt.legend(loc='lower right')\n",
    "\n",
    "    \n",
    "plt.figure(figsize=(20, 20))\n",
    "    \n",
    "draw_roc(lsvm_c, 'LSVM')\n",
    "draw_roc(log_reg, 'LogReg')\n",
    "draw_roc(rf, 'Random Forest')\n",
    "draw_roc(decision_tree, 'Decision Tree')"
   ]
  },
  {
   "cell_type": "markdown",
   "metadata": {},
   "source": [
    "As we can see from the chart, random forest is the best method. Logistic regression seems to be better on the part of the chart with fpr above 0.8 but not substantially so."
   ]
  },
  {
   "cell_type": "markdown",
   "metadata": {},
   "source": [
    "##Comparison Full cases instead of using imputation method"
   ]
  },
  {
   "cell_type": "code",
   "execution_count": null,
   "metadata": {
    "collapsed": true
   },
   "outputs": [],
   "source": [
    "# Full cases\n",
    "# From above we pick all variabels that have at least 40% of filled values \n",
    "columns_fullcase = ['AndningsfrekvensStatusID', 'SaturationStatusID', 'KroppstemperaturStatusID', \n",
    "                   'BlodtryckSystolisktOvreStatusID', 'BlodtryckDiastolisktNedreStatusID',                     'PulsfrekvensRegelbundenStatusID',\n",
    "                    'MedvetandegradRettsStatusID','AnkomstsattID', 'ProblemorsakID', 'BesoksorsakID', 'PrioritetInID', 'Alder',\n",
    "                   'Hour', 'Weekday', 'Month','Inpatient']\n",
    "\n",
    "\n",
    "dfFullCase = orgdata[columns_fullcase]\n",
    "\n",
    "# messy willl rewrite\n",
    "columns_fullcase = ['AndningsfrekvensStatusID', 'SaturationStatusID', 'KroppstemperaturStatusID', \n",
    "                   'BlodtryckSystolisktOvreStatusID', 'BlodtryckDiastolisktNedreStatusID',                     'PulsfrekvensRegelbundenStatusID',\n",
    "                    'MedvetandegradRettsStatusID','AnkomstsattID', 'ProblemorsakID', 'BesoksorsakID', 'PrioritetInID', 'Alder',\n",
    "                   'Hour', 'Weekday', 'Month']\n",
    "\n",
    "\n",
    "\n",
    "dfFullCase['NoOfMissingData'] = dfFullCase.isnull().sum(axis=1)\n",
    "\n",
    "#dfFullCase['NoOfMissingData']\n",
    "\n",
    "dfFullCaseComplete = dfFullCase[dfFullCase['NoOfMissingData'] == 0]\n",
    "#print len(dfFullCaseComplete)\n",
    "# 147843\n",
    "# So we have a subset of 147843 ful cases o work with if we want to\n",
    "# of course if we add furtherfeatures variables we always need to go \n",
    "# bak and see how they affect our full cases count\n",
    "\n",
    "\n",
    "\n",
    "np.random.seed(921)\n",
    "mask = np.random.choice([0, 1], dfFullCaseComplete.shape[0], p=[0.1, 0.9])\n",
    "\n",
    "fulltest_data = dfFullCaseComplete[mask == 0].copy()\n",
    "fulltrain_data = dfFullCaseComplete[mask == 1].copy()"
   ]
  },
  {
   "cell_type": "code",
   "execution_count": 46,
   "metadata": {
    "collapsed": false
   },
   "outputs": [],
   "source": [
    "# Test full case\n",
    "\n",
    "train_data_in_full = fulltrain_data[columns_fullcase]\n",
    "train_data_out_full = fulltrain_data[output_column]\n",
    "\n",
    "test_data_in_full = fulltest_data[columns_fullcase]\n",
    "test_data_out_full = fulltest_data[output_column]\n",
    "\n"
   ]
  },
  {
   "cell_type": "code",
   "execution_count": 47,
   "metadata": {
    "collapsed": true
   },
   "outputs": [],
   "source": [
    "def train_full(cls, sample_size=-1):\n",
    "    if sample_size == -1:\n",
    "        inp = train_data_in_full\n",
    "        out = train_data_out_full\n",
    "    else:\n",
    "        indicies = np.arange(len(train_data_in_full))\n",
    "        np.random.shuffle(indicies)\n",
    "        indicies = indicies[0:(sample_size - 1)]\n",
    "        \n",
    "        inp = train_data_in_full.iloc[indicies]\n",
    "        out = train_data_out_full.iloc[indicies]\n",
    "    \n",
    "    cls.fit(inp, out)\n",
    "    score = cls.score(test_data_in_full, test_data_out_full)\n",
    "    return cls, score"
   ]
  },
  {
   "cell_type": "code",
   "execution_count": 48,
   "metadata": {
    "collapsed": false
   },
   "outputs": [
    {
     "data": {
      "text/plain": [
       "0.74739221140472878"
      ]
     },
     "execution_count": 48,
     "metadata": {},
     "output_type": "execute_result"
    }
   ],
   "source": [
    "1 - np.mean(train_data_out_full)"
   ]
  },
  {
   "cell_type": "code",
   "execution_count": 49,
   "metadata": {
    "collapsed": false
   },
   "outputs": [
    {
     "name": "stdout",
     "output_type": "stream",
     "text": [
      "0.769661710838\n"
     ]
    }
   ],
   "source": [
    "rf, rf_score = train_full(ensemble.RandomForestClassifier(class_weight='subsample'))\n",
    "print rf_score"
   ]
  },
  {
   "cell_type": "code",
   "execution_count": 51,
   "metadata": {
    "collapsed": false
   },
   "outputs": [
    {
     "name": "stdout",
     "output_type": "stream",
     "text": [
      "0.754506930978\n"
     ]
    }
   ],
   "source": [
    "lsvm_c, lsvm_c_score = train_full(svm.LinearSVC())\n",
    "print lsvm_c_score"
   ]
  },
  {
   "cell_type": "code",
   "execution_count": 52,
   "metadata": {
    "collapsed": false,
    "scrolled": true
   },
   "outputs": [
    {
     "name": "stdout",
     "output_type": "stream",
     "text": [
      "0.771241830065\n"
     ]
    }
   ],
   "source": [
    "log_reg, lr_score = train_full(linear_model.LogisticRegression())\n",
    "print lr_score"
   ]
  },
  {
   "cell_type": "markdown",
   "metadata": {},
   "source": [
    "It seems that using full cases in general gives a worse result. This is not that surprising as\n",
    "\n",
    "a) we use a limited the number of features which are features that have \"good\" data quality i.e. few Nulls/Nan\n",
    "b) Number of cases used are only about 30% (depending on which feature we select) of what we can use if we impute values in the Null/Nan cells of our dataset.\n",
    "\n",
    "\n",
    "#### End of test full case "
   ]
  }
 ],
 "metadata": {
  "kernelspec": {
   "display_name": "Python 2",
   "language": "python",
   "name": "python2"
  },
  "language_info": {
   "codemirror_mode": {
    "name": "ipython",
    "version": 2
   },
   "file_extension": ".py",
   "mimetype": "text/x-python",
   "name": "python",
   "nbconvert_exporter": "python",
   "pygments_lexer": "ipython2",
   "version": "2.7.10"
  }
 },
 "nbformat": 4,
 "nbformat_minor": 0
}
