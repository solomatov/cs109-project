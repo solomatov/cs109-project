{
 "cells": [
  {
   "cell_type": "code",
   "execution_count": 57,
   "metadata": {
    "collapsed": true
   },
   "outputs": [],
   "source": [
    "%matplotlib inline\n",
    "\n",
    "import numpy as np\n",
    "import scipy as sp\n",
    "import matplotlib as mpl\n",
    "import matplotlib.cm as cm\n",
    "import matplotlib.pyplot as plt\n",
    "import pandas as pd\n",
    "\n",
    "import seaborn as sns\n",
    "from sklearn import cross_validation"
   ]
  },
  {
   "cell_type": "markdown",
   "metadata": {},
   "source": [
    "# 1. Problem formulation/statement"
   ]
  },
  {
   "cell_type": "markdown",
   "metadata": {},
   "source": [
    "Initial problem formulation \n",
    "\n",
    "This will be filled in based on our initial proposal. \n",
    "\n",
    "Revised problem formulation (24/11)\n",
    "\n",
    "*“Using machine learning methods is it possible to predict as early as possible if a person coming into ER will require hospitalization?”*\n",
    "\n",
    "With this narrower scope we discarded the idea of predicting which ward the patient would have to go to and if the the patient eventually would need intensive care. This information is really essential to have any real benefit of the prediction but would need further analysing and testing that was determined to out scope of this study mainly as we are on a very tight schedule. \n",
    "\n",
    "Problem discussion\n",
    "One thing the above predictions can be used for is to create a pull mentality in other wards. If they are informed of coming patients they can act by opening up a bed for the presumed patient.We want to show if it possible to give an early warning to receiving wards and hence have more effective hospital logistic. \n",
    "\n",
    "Is this something to strive for? There seems to be two schools here among physicians that in a way contradict each other, the first one is that if you spend some extra time to get to the bottom of the patient's ailment you will in the end save both time and resources, the other school focuses on a lean flow and would like to send the patient on as soon as possible either home or to another ward. \n",
    "\n",
    "\n",
    "## Delimitations\n",
    "\n",
    "Queue algorithms will not be explored\n",
    "\n",
    "Topic models/naive bayes text analysis will not be explored\n",
    "reason is that notes fields are only timestamped upon creation and\n",
    " \n",
    "when last saved so we could not decide if the texts were entered early enough to support a prediction in time.\n"
   ]
  },
  {
   "cell_type": "markdown",
   "metadata": {},
   "source": [
    "# 2. Dataset, data mining, extraction etc"
   ]
  },
  {
   "cell_type": "markdown",
   "metadata": {},
   "source": [
    "The main dataset is the ER - log, also called akutliggaren. In the ER log patients are tracked from when they enter the ER until they exit the ER. The data in the ER log have been extracted from the hospital's main system for  keeping electronic medical records - Take Care. An ETL process extracts data from Take cares data warehouse every night and stores the extract in Microsoft SQL server. For use in this project data has then been exporeted to pipe separated text files that can be imported in Python.\n",
    "\n",
    "The exact structure of the ER log can be found in the projects data dictionary. One of the more important fields of the ER log is the field ForstaSlutenvardVardenhetID, which tells us if a person has become an inpatient in connection with this ER visit and the also gives us the exact ward.\n",
    "\n",
    "Example dashboard that is in use today displayed on a large wall screen in the ER department. The dashboard show the main flows in the Er department. The steps tracked in each flow is\n",
    "\n",
    "* Waiting\n",
    "* Present\n",
    "  - More than 8h (Subset of Present)\n",
    "  - Ready but in need of further hospital care (Subset of Present)\n",
    "\n",
    "Placements done (this is shown by department and the purpose is that every department can show the inbound flow of patients from the ER)\n",
    "\n",
    "<img src=\"images/screen.png\">"
   ]
  },
  {
   "cell_type": "markdown",
   "metadata": {},
   "source": [
    "## Dataset Selection"
   ]
  },
  {
   "cell_type": "markdown",
   "metadata": {},
   "source": [
    "The chosen dataset contains 2 years of ER - cases from a larger Swedish hospital. \n",
    "The data selected spans the year 2013 and 2014 and the cases included where selected on arrival time. \n",
    "The source data is stored in a relational database and extracted to comma/pipe separated text before imported and \n",
    "used in Python for exploratory analysis and modelling. \n",
    "\n",
    "Data sanity checks\n",
    "\n",
    "\n",
    "Number of cases 2013 to 2014\n",
    "\n",
    "2013\t223595\n",
    "2014\t231208\n",
    "\n",
    "First visit 2013-01-01 00:02:00.000  \n",
    "Last visit 2014-12-31 23:58:00.000\n",
    "\n",
    "Triage measures 2013 to 2014 (translations done within project)\n",
    "\n",
    "termid\tTermnamn\t\t\tCount\n",
    "Null\tNull\t\t\t\t114627\t\tMissing\n",
    "402\tAndningsfrekvens\t\t367663\t\tBreathing frequency\n",
    "1995\tSaturation\t\t\t432100\t\tSaturation\n",
    "2025\tKroppstemperatur\t\t415073\t\tBody temperatur\n",
    "3719\tBlodtryck systoliskt - övre\t309326\t\tBlood pressure systolic\n",
    "3720\tBlodtryck diastoliskt - nedre\t300286\t\tBlood pressure diastolic\n",
    "5357\tGCS ögonöppning\t\t6702\t\tGCS Eye\n",
    "5358\tGCS motoriskt\t\t6760\t\tGCS Motorical\n",
    "5359\tGCS verbalt\t\t\t6630\t\tGCS Verbal\n",
    "9664\tStridor\t\t\t\t171187\t\tStridor\n",
    "9666\tPulsfrekvens regelbunden\t277286\t\tPulse frequency regular\n",
    "9667\tPulsfrekvens oregelbunden\t17663\t\tPulse frequency irregular\n",
    "10825\tMedvetandegrad enl Retts\t231995\t\tConsciousness acc. to Retts\n",
    "10827\tSaturation med syrgas\t9036\t\tSaturation with ogygene\n",
    "10828\tGCS total\t\t\t15047\t\tGCS Total\n",
    "10829\tKrampanfall\t\t\t187\t\tKramps\n",
    "10833\tLuftvägsstatus enl Retts\t243117\t\tAirway (breathing) status acc. Retts\n",
    "\n",
    "crp + vita -> labb -> (30 min)"
   ]
  },
  {
   "cell_type": "markdown",
   "metadata": {},
   "source": [
    "### Assumptions about the data"
   ]
  },
  {
   "cell_type": "markdown",
   "metadata": {},
   "source": [
    "The ETL process that extracts data from the hospital's electronic medical records system can have number \n",
    "of bugs affecting the quality of the data. The quality ETL process and the data it produces has not been explored\n",
    "in this paper."
   ]
  },
  {
   "cell_type": "markdown",
   "metadata": {},
   "source": [
    "## Prepare Data and Separate it into train and test sets"
   ]
  },
  {
   "cell_type": "code",
   "execution_count": 58,
   "metadata": {
    "collapsed": false
   },
   "outputs": [],
   "source": [
    "data = pd.read_csv('akutliggare.txt', sep='|')"
   ]
  },
  {
   "cell_type": "code",
   "execution_count": 59,
   "metadata": {
    "collapsed": false
   },
   "outputs": [
    {
     "data": {
      "text/html": [
       "<div>\n",
       "<table border=\"1\" class=\"dataframe\">\n",
       "  <thead>\n",
       "    <tr style=\"text-align: right;\">\n",
       "      <th></th>\n",
       "      <th>PatientID</th>\n",
       "      <th>DokumentID</th>\n",
       "      <th>AkutliggareID</th>\n",
       "      <th>PasID</th>\n",
       "      <th>AnkomstsattID</th>\n",
       "      <th>ProblemorsakID</th>\n",
       "      <th>BesoksorsakID</th>\n",
       "      <th>ForstaBesoksorsakID</th>\n",
       "      <th>FlyttadTillVardenhetID</th>\n",
       "      <th>FlyttadTillLokationID</th>\n",
       "      <th>...</th>\n",
       "      <th>AntalAvlidnaInom7Dagar</th>\n",
       "      <th>AntalAvlidnaInom30Dagar</th>\n",
       "      <th>AntalSlutenvardInom6Timmar</th>\n",
       "      <th>AntalSlutenvardInom12Timmar</th>\n",
       "      <th>AntalDiagnoserOppenvard</th>\n",
       "      <th>AntalDiagnoserSlutenvard</th>\n",
       "      <th>AntalDiagnoser</th>\n",
       "      <th>Alder</th>\n",
       "      <th>SenastUppdaterad</th>\n",
       "      <th>AntalOvernattningar</th>\n",
       "    </tr>\n",
       "  </thead>\n",
       "  <tbody>\n",
       "    <tr>\n",
       "      <th>0</th>\n",
       "      <td>-9220869629625426145</td>\n",
       "      <td>6</td>\n",
       "      <td>1</td>\n",
       "      <td>373</td>\n",
       "      <td>3266</td>\n",
       "      <td>3795</td>\n",
       "      <td>6863</td>\n",
       "      <td>6863</td>\n",
       "      <td>335</td>\n",
       "      <td>NaN</td>\n",
       "      <td>...</td>\n",
       "      <td>0</td>\n",
       "      <td>0</td>\n",
       "      <td>1</td>\n",
       "      <td>1</td>\n",
       "      <td>0</td>\n",
       "      <td>3</td>\n",
       "      <td>3</td>\n",
       "      <td>50</td>\n",
       "      <td>2014-07-29 23:23:08.000</td>\n",
       "      <td>0</td>\n",
       "    </tr>\n",
       "    <tr>\n",
       "      <th>1</th>\n",
       "      <td>-9220049438171032127</td>\n",
       "      <td>6</td>\n",
       "      <td>2</td>\n",
       "      <td>463</td>\n",
       "      <td>3272</td>\n",
       "      <td>3795</td>\n",
       "      <td>1908</td>\n",
       "      <td>1908</td>\n",
       "      <td>NaN</td>\n",
       "      <td>-92</td>\n",
       "      <td>...</td>\n",
       "      <td>0</td>\n",
       "      <td>0</td>\n",
       "      <td>0</td>\n",
       "      <td>0</td>\n",
       "      <td>0</td>\n",
       "      <td>NaN</td>\n",
       "      <td>0</td>\n",
       "      <td>0,49039700000000003</td>\n",
       "      <td>2014-02-15 22:33:42.000</td>\n",
       "      <td>0</td>\n",
       "    </tr>\n",
       "    <tr>\n",
       "      <th>2</th>\n",
       "      <td>-9216200646992851360</td>\n",
       "      <td>6</td>\n",
       "      <td>313724</td>\n",
       "      <td>2804369</td>\n",
       "      <td>3272</td>\n",
       "      <td>3795</td>\n",
       "      <td>3213</td>\n",
       "      <td>3213</td>\n",
       "      <td>NaN</td>\n",
       "      <td>-91</td>\n",
       "      <td>...</td>\n",
       "      <td>0</td>\n",
       "      <td>0</td>\n",
       "      <td>0</td>\n",
       "      <td>0</td>\n",
       "      <td>1</td>\n",
       "      <td>NaN</td>\n",
       "      <td>1</td>\n",
       "      <td>6,4931369999999999</td>\n",
       "      <td>2013-05-11 22:01:06.000</td>\n",
       "      <td>0</td>\n",
       "    </tr>\n",
       "    <tr>\n",
       "      <th>3</th>\n",
       "      <td>-9210158571153385697</td>\n",
       "      <td>6</td>\n",
       "      <td>313725</td>\n",
       "      <td>2804882</td>\n",
       "      <td>3272</td>\n",
       "      <td>3261</td>\n",
       "      <td>3172</td>\n",
       "      <td>6881</td>\n",
       "      <td>NaN</td>\n",
       "      <td>-91</td>\n",
       "      <td>...</td>\n",
       "      <td>0</td>\n",
       "      <td>0</td>\n",
       "      <td>0</td>\n",
       "      <td>0</td>\n",
       "      <td>1</td>\n",
       "      <td>NaN</td>\n",
       "      <td>1</td>\n",
       "      <td>31,657516000000001</td>\n",
       "      <td>2013-10-20 20:53:17.000</td>\n",
       "      <td>0</td>\n",
       "    </tr>\n",
       "    <tr>\n",
       "      <th>4</th>\n",
       "      <td>-9209910299446293692</td>\n",
       "      <td>6</td>\n",
       "      <td>313726</td>\n",
       "      <td>2804897</td>\n",
       "      <td>3272</td>\n",
       "      <td>3260</td>\n",
       "      <td>6849</td>\n",
       "      <td>6849</td>\n",
       "      <td>NaN</td>\n",
       "      <td>-91</td>\n",
       "      <td>...</td>\n",
       "      <td>0</td>\n",
       "      <td>0</td>\n",
       "      <td>0</td>\n",
       "      <td>0</td>\n",
       "      <td>1</td>\n",
       "      <td>NaN</td>\n",
       "      <td>1</td>\n",
       "      <td>21,958877000000001</td>\n",
       "      <td>2013-09-07 00:31:40.000</td>\n",
       "      <td>0</td>\n",
       "    </tr>\n",
       "  </tbody>\n",
       "</table>\n",
       "<p>5 rows × 109 columns</p>\n",
       "</div>"
      ],
      "text/plain": [
       "             PatientID  DokumentID  AkutliggareID    PasID  AnkomstsattID  \\\n",
       "0 -9220869629625426145           6              1      373           3266   \n",
       "1 -9220049438171032127           6              2      463           3272   \n",
       "2 -9216200646992851360           6         313724  2804369           3272   \n",
       "3 -9210158571153385697           6         313725  2804882           3272   \n",
       "4 -9209910299446293692           6         313726  2804897           3272   \n",
       "\n",
       "   ProblemorsakID  BesoksorsakID  ForstaBesoksorsakID  FlyttadTillVardenhetID  \\\n",
       "0            3795           6863                 6863                     335   \n",
       "1            3795           1908                 1908                     NaN   \n",
       "2            3795           3213                 3213                     NaN   \n",
       "3            3261           3172                 6881                     NaN   \n",
       "4            3260           6849                 6849                     NaN   \n",
       "\n",
       "   FlyttadTillLokationID         ...           AntalAvlidnaInom7Dagar  \\\n",
       "0                    NaN         ...                                0   \n",
       "1                    -92         ...                                0   \n",
       "2                    -91         ...                                0   \n",
       "3                    -91         ...                                0   \n",
       "4                    -91         ...                                0   \n",
       "\n",
       "   AntalAvlidnaInom30Dagar  AntalSlutenvardInom6Timmar  \\\n",
       "0                        0                           1   \n",
       "1                        0                           0   \n",
       "2                        0                           0   \n",
       "3                        0                           0   \n",
       "4                        0                           0   \n",
       "\n",
       "   AntalSlutenvardInom12Timmar  AntalDiagnoserOppenvard  \\\n",
       "0                            1                        0   \n",
       "1                            0                        0   \n",
       "2                            0                        1   \n",
       "3                            0                        1   \n",
       "4                            0                        1   \n",
       "\n",
       "   AntalDiagnoserSlutenvard  AntalDiagnoser                Alder  \\\n",
       "0                         3               3                   50   \n",
       "1                       NaN               0  0,49039700000000003   \n",
       "2                       NaN               1   6,4931369999999999   \n",
       "3                       NaN               1   31,657516000000001   \n",
       "4                       NaN               1   21,958877000000001   \n",
       "\n",
       "          SenastUppdaterad  AntalOvernattningar  \n",
       "0  2014-07-29 23:23:08.000                    0  \n",
       "1  2014-02-15 22:33:42.000                    0  \n",
       "2  2013-05-11 22:01:06.000                    0  \n",
       "3  2013-10-20 20:53:17.000                    0  \n",
       "4  2013-09-07 00:31:40.000                    0  \n",
       "\n",
       "[5 rows x 109 columns]"
      ]
     },
     "execution_count": 59,
     "metadata": {},
     "output_type": "execute_result"
    }
   ],
   "source": [
    "data.head()"
   ]
  },
  {
   "cell_type": "markdown",
   "metadata": {},
   "source": [
    "Create a column which we will predict in the future"
   ]
  },
  {
   "cell_type": "code",
   "execution_count": null,
   "metadata": {
    "collapsed": false
   },
   "outputs": [],
   "source": [
    "first_care_unit = data.ForstaSlutenvardVardenhetID\n",
    "\n",
    "data['Inpatient'] = ~first_care_unit.isnull() & (first_care_unit != 0)"
   ]
  },
  {
   "cell_type": "markdown",
   "metadata": {},
   "source": [
    "Convert string to date"
   ]
  },
  {
   "cell_type": "code",
   "execution_count": null,
   "metadata": {
    "collapsed": true
   },
   "outputs": [],
   "source": [
    "import dateutil.parser as duparse\n",
    "\n",
    "data['Date'] = data['SenastUppdaterad'].map(lambda s: duparse.parse(s))"
   ]
  },
  {
   "cell_type": "markdown",
   "metadata": {},
   "source": [
    "Input columns are columns which we can use to predict the outcode. "
   ]
  },
  {
   "cell_type": "code",
   "execution_count": null,
   "metadata": {
    "collapsed": true
   },
   "outputs": [],
   "source": [
    "input_columns = ['AndningsfrekvensStatusID', 'SaturationStatusID', 'KroppstemperaturStatusID', \n",
    "                   'BlodtryckSystolisktOvreStatusID', 'BlodtryckDiastolisktNedreStatusID', 'GCSOgonoppningStatusID',\n",
    "                   'GCSMotorisktStatusID', 'GCSVerbaltStatusID', 'StridorStatusID', 'PulsfrekvensRegelbundenStatusID',\n",
    "                   'PulsfrekvensOregelbundenStatusID', 'MedvetandegradRettsStatusID', 'SaturationMedSyrgasStatusID',\n",
    "                   'Alder']\n",
    "\n",
    "output_column = 'Inpatient'"
   ]
  },
  {
   "cell_type": "markdown",
   "metadata": {},
   "source": [
    "Replace NaNs and nulls with -10 so that libraries which don't work well with NaNs will accept our dataset"
   ]
  },
  {
   "cell_type": "code",
   "execution_count": null,
   "metadata": {
    "collapsed": false
   },
   "outputs": [],
   "source": [
    "data['Alder'] = data.Alder.map(lambda a: float(str(a).replace(',', '.')))\n",
    "\n",
    "for col in input_columns:\n",
    "    is_null = data[col].isnull()\n",
    "    data.loc[is_null, col] = -10"
   ]
  },
  {
   "cell_type": "code",
   "execution_count": null,
   "metadata": {
    "collapsed": true
   },
   "outputs": [],
   "source": [
    "np.random.seed(921)\n",
    "mask = np.random.choice([0, 1], data.shape[0], p=[0.1, 0.9])\n",
    "\n",
    "test_data = data[mask == 0].copy()\n",
    "train_data = data[mask == 1].copy()"
   ]
  },
  {
   "cell_type": "markdown",
   "metadata": {},
   "source": [
    "# 3. EDA"
   ]
  },
  {
   "cell_type": "markdown",
   "metadata": {},
   "source": [
    "The Er Log the project has access to has 100+ fields and one defensive initial idea are to focus on the triage data. The first examination plus the medical history of the patient are what nurses and doctor are using to assess the status of a patient and also to give a patient an initial priority. Many Swedish hospital is using Retts (http://predicare.se/en/om-retts/) decision support system for emergency medicine when assessing the patients and at the time of assessment a number of vital parameters are collected.\n",
    "\n",
    "In that way the project piggy rides on the domain knowledge of the organisation and try to use features that they use. We will see if that is a good or bad idea, but we can always extend with more features later on. We only have access to the ER log and not the medical history of the patients and there already from the beginning we have some limitations that most probably will affect the precision of our predictions. In addition to that we do not get the “touch and feel” a nurse and doctor get’s when talking to a patient, they can use their hands to feel body temperature, sweating and pinpoint things like abdominal pains etc.\n",
    "\n",
    "The vital parameters that we have access to are \n",
    "\n",
    "* Breathing frequency\n",
    "* Saturation Status\n",
    "* Body temperature \n",
    "* Bllodpressure Systolic Upper \n",
    "* Blood pressure Systolic Lower \n",
    "* GCS Eye opening Status \n",
    "* GCS Motoric Status\n",
    "* GCS Verbal Status\n",
    "* Stridor Status\n",
    "* Pulse frequency regular\n",
    "* Pulse frequency irregular \n",
    "* Consciousness Retts scale status \n",
    "* Saturation with oxygen status\n",
    "\n",
    "In addition to that we will use patient Age and hopefully Gender (Gender was not part of the initial dataset )\n",
    "(by Kostya. We actually can use time of the day and month of the year as predictors, I am sure there're seasonal\n",
    "changes in different diagnoses)\n",
    "\n",
    "We aim to predict if a patient will need further care and become an Inpatient. The diagram below shows the relation between Inpatients and Others. Others include people going home  and outpatients. The main difference between an outpatient and an inpatient from a hospital logistics perspective is that the inpatients stays overnight and requires more resources. An outpatient may have an appointment at the hospital for example the following day or a week later for check up but their direct interaction (and use of resources) with the hospital is relatively brief."
   ]
  },
  {
   "cell_type": "markdown",
   "metadata": {},
   "source": [
    "## Inpatient / Outpatient distribution"
   ]
  },
  {
   "cell_type": "code",
   "execution_count": null,
   "metadata": {
    "collapsed": false
   },
   "outputs": [],
   "source": [
    "ct = pd.crosstab(data['Date'].dt.year, data['Inpatient'])\n",
    "ct.index.name = 'Year'\n",
    "ct"
   ]
  },
  {
   "cell_type": "markdown",
   "metadata": {},
   "source": [
    "## Summary statistics of different predictor columns"
   ]
  },
  {
   "cell_type": "code",
   "execution_count": null,
   "metadata": {
    "collapsed": false
   },
   "outputs": [],
   "source": [
    "train_data[input_columns].describe()"
   ]
  },
  {
   "cell_type": "markdown",
   "metadata": {},
   "source": [
    "## Distribution of predictor columns by inpatient status"
   ]
  },
  {
   "cell_type": "code",
   "execution_count": null,
   "metadata": {
    "collapsed": false
   },
   "outputs": [],
   "source": [
    "def plot_column(ax, col):\n",
    "    sns.distplot(train_data[col][train_data.Inpatient == 1], kde=False, ax=ax, label='Inpatient', norm_hist=True)\n",
    "    sns.distplot(train_data[col][train_data.Inpatient == 0], kde=False, ax=ax, label='Outpatient', norm_hist=True)\n",
    "    ax.legend()\n",
    "\n",
    "fig, axes = plt.subplots(nrows=5, ncols=3, sharex=False, sharey=False, figsize=(10, 10))\n",
    "fig.tight_layout()\n",
    "\n",
    "for ax, col in zip(axes.ravel(), input_columns):\n",
    "    plot_column(ax, col)"
   ]
  },
  {
   "cell_type": "markdown",
   "metadata": {},
   "source": [
    "Almost all columns, have substantially different distributions for both cases."
   ]
  },
  {
   "cell_type": "markdown",
   "metadata": {},
   "source": [
    "## Correlation heatmap"
   ]
  }
 ],
 "metadata": {
  "kernelspec": {
   "display_name": "Python 2",
   "language": "python",
   "name": "python2"
  },
  "language_info": {
   "codemirror_mode": {
    "name": "ipython",
    "version": 2
   },
   "file_extension": ".py",
   "mimetype": "text/x-python",
   "name": "python",
   "nbconvert_exporter": "python",
   "pygments_lexer": "ipython2",
   "version": "2.7.10"
  }
 },
 "nbformat": 4,
 "nbformat_minor": 0
}
