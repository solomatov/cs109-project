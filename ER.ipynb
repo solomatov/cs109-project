{
 "cells": [
  {
   "cell_type": "code",
   "execution_count": 94,
   "metadata": {
    "collapsed": false
   },
   "outputs": [],
   "source": [
    "%matplotlib inline\n",
    "\n",
    "import numpy as np\n",
    "import scipy as sp\n",
    "import matplotlib as mpl\n",
    "import matplotlib.cm as cm\n",
    "import matplotlib.pyplot as plt\n",
    "import pandas as pd\n",
    "pd.set_option('display.max_columns', 500)\n",
    "\n",
    "import seaborn as sns\n",
    "\n",
    "from sklearn import cross_validation, ensemble, tree, linear_model, svm, metrics"
   ]
  },
  {
   "cell_type": "markdown",
   "metadata": {},
   "source": [
    "# 1. Problem formulation/statement"
   ]
  },
  {
   "cell_type": "markdown",
   "metadata": {},
   "source": [
    "##Scope\n",
    "\n",
    "*“Using machine learning methods is it possible to predict as early as possible if a person coming into ER will require hospitalization?”*\n",
    "\n",
    "This is a narrow scope, our initial scope was broader but we discarded ideas such as predicting which ward the patient would have to go to and if the the patient eventually would need intensive care. Although we think that the latter information is really essential to have any real benefit we determined it to be out scope of this study mainly as we are on a very tight schedule.\n",
    "\n",
    "##In-patient \n",
    "The focus of this study is to try to predict as early as possible if a person coming into ER will need to be hospitalised. In that case the person becomes an In-patient. \n",
    "\n",
    "##Benefits of the prediction \n",
    "\n",
    "In short - better care faster - and explained:\n",
    "\n",
    "A normal ER pipeline for an in-patient could look like this (timings assumed from dataset means unless otherwise is noted)\n",
    "\n",
    "Activity|Timing\n",
    "--------|--------\n",
    "Arrival|0m\n",
    "Triage by nurse| 20m\n",
    "Doctors initial examination| 1h 8m\n",
    "Blood tests|1h 35m\n",
    "Doctors examination after tests|2h 10m assumed\n",
    "Departure| 4h 46m\n",
    "              \n",
    "If viewed with an harsh eye you could assumed that you will spend hours waiting for better specialized care. \n",
    "\n",
    "We want to show if it is possible with the help of machine learning methods to give an early warning to receiving wards and hence have more effective hospital logistics, one effect of that is that the patients probably will have better care in shorter time from specialist wards rather than in the ER which will have to be able to cater for all kinds of maladies but can be experts in very few. The patient will also probably feel less stress and anxiety caused by the extended waiting periods.\n",
    "\n",
    "##From resource focus to flow focus\n",
    "The hospital region for this study have an outspoken goal that they want to move the care process from being focused on using it's resource most effective at the expense of increased waiting times for patients to lean processes where patient needs drives the care process. \n",
    "\n"
   ]
  },
  {
   "cell_type": "markdown",
   "metadata": {},
   "source": [
    "# 2. Dataset, data mining, extraction etc"
   ]
  },
  {
   "cell_type": "markdown",
   "metadata": {},
   "source": [
    "##Conventions\n",
    "Whenever possible we use the English feature name first with the Swedish feature name within parentesis. "
   ]
  },
  {
   "cell_type": "markdown",
   "metadata": {},
   "source": [
    "## Dataset introduction\n",
    "The main dataset is the ER - log, also called akutliggaren. In the ER log patients are tracked from when they enter the ER until they exit the ER. The data in the ER log have been extracted from the hospital's main system for  keeping electronic medical records and covers the majority of the ER wards in the reception area. An ETL process extracts data from the source system every night and stores the extract in Microsoft SQL server. For use in this project data has then been exporeted to pipe separated text files that can be directly imported in Python.\n",
    "\n",
    "The exact features of the ER log can be found in the projects data dictionary. One of the more important fields of the ER log is the field First in-patient care unit (ForstaSlutenvardVardenhetID) , which tells us if a person has become an in-patient in connection with the recorded, in the ER-log, visit and that field also gives us the name and type of the ward.\n",
    "\n",
    "Below a sample dashboard that is in use today displayed on a large wall screen in the ER department. The dashboard show the main flows in the Er department. The steps tracked in each flow is\n",
    "\n",
    "* Waiting\n",
    "* Present\n",
    "  - More than 8h (Subset of Present)\n",
    "  - Ready but in need of further hospital care (Subset of Present)\n",
    "\n",
    "Placements done (this is shown by department and the purpose is that every department can show the inbound flow of patients from the ER).\n",
    "\n",
    "Swedish terms on the dashboard have been translated into English (green text)\n",
    "\n",
    "<img src=\"images/screen.png\">"
   ]
  },
  {
   "cell_type": "markdown",
   "metadata": {},
   "source": [
    "##Triage feature discretization\n",
    "Triage features in the dataset has been discretizationazed already in the source system using a common reference table. To simplify downstream handling of triage variables we normalize them by subtracting one less than the min value from every triage variable value.\n",
    "\n",
    "See also https://en.wikipedia.org/wiki/Discretization_of_continuous_features"
   ]
  },
  {
   "cell_type": "markdown",
   "metadata": {},
   "source": [
    "##Inpatient cost vs outpatient cost\n",
    "\n",
    "\n",
    "###Sweden University hospital Cost Info\n",
    "\n",
    "2014 In-patient cost\n",
    "Average cost/case \t68 505 SEK\n",
    "Patient age mean \t52,5 years\n",
    "Average cost per day\t11 850 SEK ( 1 355 USD )\n",
    "Average length of stay (in days) 4,8\n",
    "\n",
    "2014 Out-patient\n",
    "Snittkostnad\t \t3 262\n",
    "Snittålder\t \t46,7\n",
    "\n",
    "\n",
    "source: Sveriges Kommun och Landsting, https://stat.skl.se/kpp/index.htm\n",
    "(Swedish Association of Local Authorities and Regions)\n",
    "\n",
    "\n",
    "###US (included for comparison )\n",
    "\n",
    "State/local government hospitals 2013\n",
    "Cost per inpatient day 1 878 USD\n",
    "\n",
    "source: http://www.beckershospitalreview.com/finance/average-cost-per-inpatient-day-across-50-states.html"
   ]
  },
  {
   "cell_type": "markdown",
   "metadata": {},
   "source": [
    "## Dataset Selection"
   ]
  },
  {
   "cell_type": "markdown",
   "metadata": {},
   "source": [
    "The chosen dataset contains 2 years of ER - cases from a larger Swedish hospital. \n",
    "The data selected spans the year 2013 and 2014 and the cases included where selected on arrival time. \n",
    "The source data is stored in a relational database and extracted to comma/pipe separated text before imported and \n",
    "used in Python for exploratory analysis and modelling. \n",
    "\n",
    "###Basic Data sanity checks\n",
    "\n",
    "Number of cases 2013 to 2014\n",
    "\n",
    "2013\t223595\n",
    "2014\t231208\n",
    "\n",
    "First visit 2013-01-01 00:02:00.000  \n",
    "Last visit 2014-12-31 23:58:00.000\n"
   ]
  },
  {
   "cell_type": "markdown",
   "metadata": {},
   "source": [
    "### Assumptions about the data"
   ]
  },
  {
   "cell_type": "markdown",
   "metadata": {},
   "source": [
    "The ETL process that extracts data from the hospital's electronic medical records system can have number \n",
    "of bugs affecting the quality of the data. The quality ETL process and the data it produces has not been explored\n",
    "in this paper.\n",
    "\n",
    "Furthermore many of the discrete variables (for example all for triaging) have already in the ETL process been discretizationed and \"binned\". The discretizations done were supervised by domain experts i.e. doctors. We have not explored what implications of using discretizationed vs the original continous will have on the used machine learning methods. The main reason for this is that the continous values where not part of our source dataset.\n"
   ]
  },
  {
   "cell_type": "markdown",
   "metadata": {},
   "source": [
    "## Load and prepare data "
   ]
  },
  {
   "cell_type": "markdown",
   "metadata": {},
   "source": [
    "#### Load data"
   ]
  },
  {
   "cell_type": "code",
   "execution_count": 95,
   "metadata": {
    "collapsed": false
   },
   "outputs": [],
   "source": [
    "data = pd.read_csv('akutliggare.txt', sep='|')"
   ]
  },
  {
   "cell_type": "code",
   "execution_count": 96,
   "metadata": {
    "collapsed": false
   },
   "outputs": [
    {
     "data": {
      "text/html": [
       "<div>\n",
       "<table border=\"1\" class=\"dataframe\">\n",
       "  <thead>\n",
       "    <tr style=\"text-align: right;\">\n",
       "      <th></th>\n",
       "      <th>PatientID</th>\n",
       "      <th>DokumentID</th>\n",
       "      <th>AkutliggareID</th>\n",
       "      <th>PasID</th>\n",
       "      <th>AnkomstsattID</th>\n",
       "      <th>ProblemorsakID</th>\n",
       "      <th>BesoksorsakID</th>\n",
       "      <th>ForstaBesoksorsakID</th>\n",
       "      <th>FlyttadTillVardenhetID</th>\n",
       "      <th>FlyttadTillLokationID</th>\n",
       "      <th>VardbehovID</th>\n",
       "      <th>VardenhetID</th>\n",
       "      <th>ForstaVardenhetID</th>\n",
       "      <th>ForstaSlutenvardVardenhetID</th>\n",
       "      <th>AndraSlutenvardVardenhetID</th>\n",
       "      <th>SenasteKonsulteradeVardenhetID</th>\n",
       "      <th>SenasteAnsvarigaVardenhetID</th>\n",
       "      <th>PrioritetInID</th>\n",
       "      <th>PrioritetUtID</th>\n",
       "      <th>RegistreringsstatusID</th>\n",
       "      <th>AlderID</th>\n",
       "      <th>BesokstypID</th>\n",
       "      <th>DiagnoskodOppenvard</th>\n",
       "      <th>DiagnoskodSlutenvard</th>\n",
       "      <th>Diagnoskod</th>\n",
       "      <th>AndningsfrekvensStatusID</th>\n",
       "      <th>SaturationStatusID</th>\n",
       "      <th>KroppstemperaturStatusID</th>\n",
       "      <th>BlodtryckSystolisktOvreStatusID</th>\n",
       "      <th>BlodtryckDiastolisktNedreStatusID</th>\n",
       "      <th>GCSOgonoppningStatusID</th>\n",
       "      <th>GCSMotorisktStatusID</th>\n",
       "      <th>GCSVerbaltStatusID</th>\n",
       "      <th>StridorStatusID</th>\n",
       "      <th>PulsfrekvensRegelbundenStatusID</th>\n",
       "      <th>PulsfrekvensOregelbundenStatusID</th>\n",
       "      <th>MedvetandegradRettsStatusID</th>\n",
       "      <th>SaturationMedSyrgasStatusID</th>\n",
       "      <th>GCSTotalStatusID</th>\n",
       "      <th>KrampanfallStatusID</th>\n",
       "      <th>LuftvagsstatusRettsStatusID</th>\n",
       "      <th>BLeukocyterStatusID</th>\n",
       "      <th>BErytrocyterStatusID</th>\n",
       "      <th>BHemoglobinStatusID</th>\n",
       "      <th>BEVFStatusID</th>\n",
       "      <th>ErcBMCVStatusID</th>\n",
       "      <th>ErcBMCHStatusID</th>\n",
       "      <th>ErcBMCHCStatusID</th>\n",
       "      <th>BTrombocyterStatusID</th>\n",
       "      <th>PGlukosStatusID</th>\n",
       "      <th>PCRPStatusID</th>\n",
       "      <th>PNatriumStatusID</th>\n",
       "      <th>PKaliumStatusID</th>\n",
       "      <th>PKreatininStatusID</th>\n",
       "      <th>PTroponinTStatusID</th>\n",
       "      <th>AnsvarigtVardlag</th>\n",
       "      <th>KonsulteratVardlag</th>\n",
       "      <th>Klar</th>\n",
       "      <th>TroligInskrivning</th>\n",
       "      <th>Produkttyp</th>\n",
       "      <th>Produktkod</th>\n",
       "      <th>Ankomsttidpunkt</th>\n",
       "      <th>Utskrivningstidpunkt</th>\n",
       "      <th>TidregistreringUtTill</th>\n",
       "      <th>ForstaAnsvarigaLakareTidpunkt</th>\n",
       "      <th>ForstaSkoterskaTidpunkt</th>\n",
       "      <th>SenasteAnsvarigaLakareTidpunkt</th>\n",
       "      <th>SenasteKonsulteradeVardenhetTidpunkt</th>\n",
       "      <th>SenasteAnsvarigaVardenhetTidpunkt</th>\n",
       "      <th>TidTillLakareMinuter</th>\n",
       "      <th>VistelsetidMinuter</th>\n",
       "      <th>VistelsetidPaborjadeTimmar</th>\n",
       "      <th>VantetidTriageMinuter</th>\n",
       "      <th>HandlaggningstidMinuter</th>\n",
       "      <th>Rontgen</th>\n",
       "      <th>RontgenTidTillRemiss</th>\n",
       "      <th>RontgenTidTillUndersokningSlut</th>\n",
       "      <th>RontgenTidTillForstaSvar</th>\n",
       "      <th>Lab</th>\n",
       "      <th>LabTidTillProvtagning</th>\n",
       "      <th>LabTidTillForstaSvar</th>\n",
       "      <th>LabTidTillAnkomstLab</th>\n",
       "      <th>Intensiv</th>\n",
       "      <th>TidTillIntensiv</th>\n",
       "      <th>AntalIntensivInom72Timmar</th>\n",
       "      <th>AntalIn</th>\n",
       "      <th>AntalUt</th>\n",
       "      <th>AntalInvolveradeEnheter</th>\n",
       "      <th>AntalAnsvarigaEnheter</th>\n",
       "      <th>AntalKonsulteradeEnheter</th>\n",
       "      <th>AntalTillLakareInom40Minuter</th>\n",
       "      <th>AntalKlarInom4Timmar</th>\n",
       "      <th>AntalEjKlarInom8Timmar</th>\n",
       "      <th>AntalVistelsetid8Till12Timmar</th>\n",
       "      <th>AntalVistelsetid12Till16Timmar</th>\n",
       "      <th>AntalVistelsetidOver16Timmar</th>\n",
       "      <th>AntalUtanforRettsTidsriktlinje</th>\n",
       "      <th>AntalAterbesokInom72Timmar</th>\n",
       "      <th>AntalBesok</th>\n",
       "      <th>AntalAvlidnaInom7Dagar</th>\n",
       "      <th>AntalAvlidnaInom30Dagar</th>\n",
       "      <th>AntalSlutenvardInom6Timmar</th>\n",
       "      <th>AntalSlutenvardInom12Timmar</th>\n",
       "      <th>AntalDiagnoserOppenvard</th>\n",
       "      <th>AntalDiagnoserSlutenvard</th>\n",
       "      <th>AntalDiagnoser</th>\n",
       "      <th>Alder</th>\n",
       "      <th>SenastUppdaterad</th>\n",
       "      <th>AntalOvernattningar</th>\n",
       "    </tr>\n",
       "  </thead>\n",
       "  <tbody>\n",
       "    <tr>\n",
       "      <th>454798</th>\n",
       "      <td>-2658222856580924101</td>\n",
       "      <td>246966</td>\n",
       "      <td>99468</td>\n",
       "      <td>852080</td>\n",
       "      <td>3272</td>\n",
       "      <td>3795</td>\n",
       "      <td>NaN</td>\n",
       "      <td>NaN</td>\n",
       "      <td>NaN</td>\n",
       "      <td>-91</td>\n",
       "      <td>NaN</td>\n",
       "      <td>38</td>\n",
       "      <td>38</td>\n",
       "      <td>NaN</td>\n",
       "      <td>NaN</td>\n",
       "      <td>NaN</td>\n",
       "      <td>38</td>\n",
       "      <td>NaN</td>\n",
       "      <td>NaN</td>\n",
       "      <td>-1</td>\n",
       "      <td>101</td>\n",
       "      <td>97</td>\n",
       "      <td>NaN</td>\n",
       "      <td>NaN</td>\n",
       "      <td>NaN</td>\n",
       "      <td>3</td>\n",
       "      <td>7</td>\n",
       "      <td>12</td>\n",
       "      <td>19</td>\n",
       "      <td>24</td>\n",
       "      <td>NaN</td>\n",
       "      <td>NaN</td>\n",
       "      <td>NaN</td>\n",
       "      <td>41</td>\n",
       "      <td>45</td>\n",
       "      <td>NaN</td>\n",
       "      <td>54</td>\n",
       "      <td>NaN</td>\n",
       "      <td>NaN</td>\n",
       "      <td>NaN</td>\n",
       "      <td>70</td>\n",
       "      <td>NaN</td>\n",
       "      <td>NaN</td>\n",
       "      <td>NaN</td>\n",
       "      <td>NaN</td>\n",
       "      <td>NaN</td>\n",
       "      <td>NaN</td>\n",
       "      <td>NaN</td>\n",
       "      <td>NaN</td>\n",
       "      <td>NaN</td>\n",
       "      <td>NaN</td>\n",
       "      <td>NaN</td>\n",
       "      <td>NaN</td>\n",
       "      <td>NaN</td>\n",
       "      <td>NaN</td>\n",
       "      <td>NaN</td>\n",
       "      <td>NaN</td>\n",
       "      <td>True</td>\n",
       "      <td>NaN</td>\n",
       "      <td>NaN</td>\n",
       "      <td>NaN</td>\n",
       "      <td>2014-03-15 14:32:00.000</td>\n",
       "      <td>2014-03-15 15:38:00.000</td>\n",
       "      <td>2014-03-15 15:38:39.000</td>\n",
       "      <td>NaN</td>\n",
       "      <td>NaN</td>\n",
       "      <td>NaN</td>\n",
       "      <td>NaN</td>\n",
       "      <td>2014-03-15 15:52:21.000</td>\n",
       "      <td>NaN</td>\n",
       "      <td>66</td>\n",
       "      <td>2</td>\n",
       "      <td>37</td>\n",
       "      <td>NaN</td>\n",
       "      <td>False</td>\n",
       "      <td>NaN</td>\n",
       "      <td>NaN</td>\n",
       "      <td>NaN</td>\n",
       "      <td>NaN</td>\n",
       "      <td>NaN</td>\n",
       "      <td>NaN</td>\n",
       "      <td>NaN</td>\n",
       "      <td>False</td>\n",
       "      <td>NaN</td>\n",
       "      <td>0</td>\n",
       "      <td>1</td>\n",
       "      <td>1</td>\n",
       "      <td>1</td>\n",
       "      <td>1</td>\n",
       "      <td>0</td>\n",
       "      <td>0</td>\n",
       "      <td>1</td>\n",
       "      <td>0</td>\n",
       "      <td>0</td>\n",
       "      <td>0</td>\n",
       "      <td>0</td>\n",
       "      <td>0</td>\n",
       "      <td>0</td>\n",
       "      <td>0</td>\n",
       "      <td>0</td>\n",
       "      <td>0</td>\n",
       "      <td>0</td>\n",
       "      <td>0</td>\n",
       "      <td>0</td>\n",
       "      <td>NaN</td>\n",
       "      <td>0</td>\n",
       "      <td>101,25478699999999</td>\n",
       "      <td>2014-03-15 20:01:49.000</td>\n",
       "      <td>0</td>\n",
       "    </tr>\n",
       "    <tr>\n",
       "      <th>454799</th>\n",
       "      <td>-2658222856580924101</td>\n",
       "      <td>251563</td>\n",
       "      <td>99469</td>\n",
       "      <td>NaN</td>\n",
       "      <td>3265</td>\n",
       "      <td>3795</td>\n",
       "      <td>NaN</td>\n",
       "      <td>NaN</td>\n",
       "      <td>NaN</td>\n",
       "      <td>-91</td>\n",
       "      <td>NaN</td>\n",
       "      <td>35</td>\n",
       "      <td>35</td>\n",
       "      <td>NaN</td>\n",
       "      <td>NaN</td>\n",
       "      <td>NaN</td>\n",
       "      <td>35</td>\n",
       "      <td>NaN</td>\n",
       "      <td>NaN</td>\n",
       "      <td>-1</td>\n",
       "      <td>101</td>\n",
       "      <td>NaN</td>\n",
       "      <td>NaN</td>\n",
       "      <td>NaN</td>\n",
       "      <td>NaN</td>\n",
       "      <td>NaN</td>\n",
       "      <td>NaN</td>\n",
       "      <td>NaN</td>\n",
       "      <td>NaN</td>\n",
       "      <td>NaN</td>\n",
       "      <td>NaN</td>\n",
       "      <td>NaN</td>\n",
       "      <td>NaN</td>\n",
       "      <td>NaN</td>\n",
       "      <td>NaN</td>\n",
       "      <td>NaN</td>\n",
       "      <td>NaN</td>\n",
       "      <td>NaN</td>\n",
       "      <td>NaN</td>\n",
       "      <td>NaN</td>\n",
       "      <td>NaN</td>\n",
       "      <td>NaN</td>\n",
       "      <td>NaN</td>\n",
       "      <td>NaN</td>\n",
       "      <td>NaN</td>\n",
       "      <td>NaN</td>\n",
       "      <td>NaN</td>\n",
       "      <td>NaN</td>\n",
       "      <td>NaN</td>\n",
       "      <td>NaN</td>\n",
       "      <td>NaN</td>\n",
       "      <td>NaN</td>\n",
       "      <td>NaN</td>\n",
       "      <td>NaN</td>\n",
       "      <td>NaN</td>\n",
       "      <td>NaN</td>\n",
       "      <td>NaN</td>\n",
       "      <td>True</td>\n",
       "      <td>NaN</td>\n",
       "      <td>NaN</td>\n",
       "      <td>NaN</td>\n",
       "      <td>2014-04-24 16:29:00.000</td>\n",
       "      <td>2014-04-24 16:33:00.000</td>\n",
       "      <td>2014-04-24 16:33:57.000</td>\n",
       "      <td>NaN</td>\n",
       "      <td>NaN</td>\n",
       "      <td>NaN</td>\n",
       "      <td>NaN</td>\n",
       "      <td>2014-04-24 23:08:12.000</td>\n",
       "      <td>NaN</td>\n",
       "      <td>4</td>\n",
       "      <td>1</td>\n",
       "      <td>NaN</td>\n",
       "      <td>NaN</td>\n",
       "      <td>False</td>\n",
       "      <td>NaN</td>\n",
       "      <td>NaN</td>\n",
       "      <td>NaN</td>\n",
       "      <td>NaN</td>\n",
       "      <td>NaN</td>\n",
       "      <td>NaN</td>\n",
       "      <td>NaN</td>\n",
       "      <td>False</td>\n",
       "      <td>NaN</td>\n",
       "      <td>0</td>\n",
       "      <td>1</td>\n",
       "      <td>1</td>\n",
       "      <td>1</td>\n",
       "      <td>1</td>\n",
       "      <td>0</td>\n",
       "      <td>0</td>\n",
       "      <td>1</td>\n",
       "      <td>0</td>\n",
       "      <td>0</td>\n",
       "      <td>0</td>\n",
       "      <td>0</td>\n",
       "      <td>0</td>\n",
       "      <td>0</td>\n",
       "      <td>0</td>\n",
       "      <td>0</td>\n",
       "      <td>0</td>\n",
       "      <td>0</td>\n",
       "      <td>0</td>\n",
       "      <td>0</td>\n",
       "      <td>NaN</td>\n",
       "      <td>0</td>\n",
       "      <td>101,364373</td>\n",
       "      <td>2014-04-25 20:03:20.000</td>\n",
       "      <td>0</td>\n",
       "    </tr>\n",
       "    <tr>\n",
       "      <th>454800</th>\n",
       "      <td>-2658222856580924101</td>\n",
       "      <td>261864</td>\n",
       "      <td>119362</td>\n",
       "      <td>852123</td>\n",
       "      <td>3272</td>\n",
       "      <td>3795</td>\n",
       "      <td>3170</td>\n",
       "      <td>3170</td>\n",
       "      <td>NaN</td>\n",
       "      <td>-91</td>\n",
       "      <td>NaN</td>\n",
       "      <td>38</td>\n",
       "      <td>38</td>\n",
       "      <td>NaN</td>\n",
       "      <td>NaN</td>\n",
       "      <td>NaN</td>\n",
       "      <td>38</td>\n",
       "      <td>NaN</td>\n",
       "      <td>NaN</td>\n",
       "      <td>-1</td>\n",
       "      <td>101</td>\n",
       "      <td>97</td>\n",
       "      <td>NaN</td>\n",
       "      <td>NaN</td>\n",
       "      <td>NaN</td>\n",
       "      <td>2</td>\n",
       "      <td>7</td>\n",
       "      <td>12</td>\n",
       "      <td>18</td>\n",
       "      <td>22</td>\n",
       "      <td>NaN</td>\n",
       "      <td>NaN</td>\n",
       "      <td>NaN</td>\n",
       "      <td>41</td>\n",
       "      <td>44</td>\n",
       "      <td>NaN</td>\n",
       "      <td>NaN</td>\n",
       "      <td>NaN</td>\n",
       "      <td>NaN</td>\n",
       "      <td>NaN</td>\n",
       "      <td>70</td>\n",
       "      <td>NaN</td>\n",
       "      <td>NaN</td>\n",
       "      <td>NaN</td>\n",
       "      <td>NaN</td>\n",
       "      <td>NaN</td>\n",
       "      <td>NaN</td>\n",
       "      <td>NaN</td>\n",
       "      <td>NaN</td>\n",
       "      <td>NaN</td>\n",
       "      <td>NaN</td>\n",
       "      <td>NaN</td>\n",
       "      <td>NaN</td>\n",
       "      <td>NaN</td>\n",
       "      <td>NaN</td>\n",
       "      <td>NaN</td>\n",
       "      <td>NaN</td>\n",
       "      <td>True</td>\n",
       "      <td>False</td>\n",
       "      <td>NaN</td>\n",
       "      <td>NaN</td>\n",
       "      <td>2014-09-08 08:29:00.000</td>\n",
       "      <td>2014-09-08 09:19:00.000</td>\n",
       "      <td>2014-09-08 09:19:09.000</td>\n",
       "      <td>NaN</td>\n",
       "      <td>NaN</td>\n",
       "      <td>NaN</td>\n",
       "      <td>NaN</td>\n",
       "      <td>2014-09-09 08:21:01.000</td>\n",
       "      <td>NaN</td>\n",
       "      <td>50</td>\n",
       "      <td>1</td>\n",
       "      <td>23</td>\n",
       "      <td>NaN</td>\n",
       "      <td>False</td>\n",
       "      <td>NaN</td>\n",
       "      <td>NaN</td>\n",
       "      <td>NaN</td>\n",
       "      <td>NaN</td>\n",
       "      <td>NaN</td>\n",
       "      <td>NaN</td>\n",
       "      <td>NaN</td>\n",
       "      <td>False</td>\n",
       "      <td>NaN</td>\n",
       "      <td>0</td>\n",
       "      <td>1</td>\n",
       "      <td>1</td>\n",
       "      <td>1</td>\n",
       "      <td>1</td>\n",
       "      <td>0</td>\n",
       "      <td>0</td>\n",
       "      <td>1</td>\n",
       "      <td>0</td>\n",
       "      <td>0</td>\n",
       "      <td>0</td>\n",
       "      <td>0</td>\n",
       "      <td>0</td>\n",
       "      <td>0</td>\n",
       "      <td>0</td>\n",
       "      <td>0</td>\n",
       "      <td>0</td>\n",
       "      <td>0</td>\n",
       "      <td>0</td>\n",
       "      <td>0</td>\n",
       "      <td>NaN</td>\n",
       "      <td>0</td>\n",
       "      <td>101,739705</td>\n",
       "      <td>2014-09-09 20:04:00.000</td>\n",
       "      <td>0</td>\n",
       "    </tr>\n",
       "    <tr>\n",
       "      <th>454801</th>\n",
       "      <td>-2658222856580924101</td>\n",
       "      <td>263780</td>\n",
       "      <td>99470</td>\n",
       "      <td>852126</td>\n",
       "      <td>3266</td>\n",
       "      <td>3795</td>\n",
       "      <td>6862</td>\n",
       "      <td>6862</td>\n",
       "      <td>NaN</td>\n",
       "      <td>-91</td>\n",
       "      <td>4</td>\n",
       "      <td>36</td>\n",
       "      <td>36</td>\n",
       "      <td>NaN</td>\n",
       "      <td>NaN</td>\n",
       "      <td>NaN</td>\n",
       "      <td>36</td>\n",
       "      <td>6</td>\n",
       "      <td>6</td>\n",
       "      <td>-1</td>\n",
       "      <td>101</td>\n",
       "      <td>97</td>\n",
       "      <td>NaN</td>\n",
       "      <td>NaN</td>\n",
       "      <td>NaN</td>\n",
       "      <td>2</td>\n",
       "      <td>8</td>\n",
       "      <td>12</td>\n",
       "      <td>18</td>\n",
       "      <td>22</td>\n",
       "      <td>NaN</td>\n",
       "      <td>NaN</td>\n",
       "      <td>NaN</td>\n",
       "      <td>41</td>\n",
       "      <td>44</td>\n",
       "      <td>NaN</td>\n",
       "      <td>54</td>\n",
       "      <td>NaN</td>\n",
       "      <td>NaN</td>\n",
       "      <td>NaN</td>\n",
       "      <td>70</td>\n",
       "      <td>NaN</td>\n",
       "      <td>NaN</td>\n",
       "      <td>NaN</td>\n",
       "      <td>NaN</td>\n",
       "      <td>NaN</td>\n",
       "      <td>NaN</td>\n",
       "      <td>NaN</td>\n",
       "      <td>NaN</td>\n",
       "      <td>NaN</td>\n",
       "      <td>NaN</td>\n",
       "      <td>NaN</td>\n",
       "      <td>NaN</td>\n",
       "      <td>NaN</td>\n",
       "      <td>NaN</td>\n",
       "      <td>NaN</td>\n",
       "      <td>NaN</td>\n",
       "      <td>True</td>\n",
       "      <td>False</td>\n",
       "      <td>NaN</td>\n",
       "      <td>NaN</td>\n",
       "      <td>2014-09-26 10:16:00.000</td>\n",
       "      <td>2014-09-26 10:29:00.000</td>\n",
       "      <td>2014-09-26 10:29:24.000</td>\n",
       "      <td>NaN</td>\n",
       "      <td>2014-09-26 10:21:48.000</td>\n",
       "      <td>NaN</td>\n",
       "      <td>NaN</td>\n",
       "      <td>2014-09-27 23:03:44.000</td>\n",
       "      <td>NaN</td>\n",
       "      <td>13</td>\n",
       "      <td>1</td>\n",
       "      <td>7</td>\n",
       "      <td>NaN</td>\n",
       "      <td>False</td>\n",
       "      <td>NaN</td>\n",
       "      <td>NaN</td>\n",
       "      <td>NaN</td>\n",
       "      <td>NaN</td>\n",
       "      <td>NaN</td>\n",
       "      <td>NaN</td>\n",
       "      <td>NaN</td>\n",
       "      <td>False</td>\n",
       "      <td>NaN</td>\n",
       "      <td>0</td>\n",
       "      <td>1</td>\n",
       "      <td>1</td>\n",
       "      <td>1</td>\n",
       "      <td>1</td>\n",
       "      <td>0</td>\n",
       "      <td>0</td>\n",
       "      <td>1</td>\n",
       "      <td>0</td>\n",
       "      <td>0</td>\n",
       "      <td>0</td>\n",
       "      <td>0</td>\n",
       "      <td>0</td>\n",
       "      <td>0</td>\n",
       "      <td>0</td>\n",
       "      <td>0</td>\n",
       "      <td>0</td>\n",
       "      <td>0</td>\n",
       "      <td>0</td>\n",
       "      <td>0</td>\n",
       "      <td>NaN</td>\n",
       "      <td>0</td>\n",
       "      <td>101,789019</td>\n",
       "      <td>2014-09-28 20:01:21.000</td>\n",
       "      <td>0</td>\n",
       "    </tr>\n",
       "    <tr>\n",
       "      <th>454802</th>\n",
       "      <td>-2658222856580924101</td>\n",
       "      <td>270416</td>\n",
       "      <td>119363</td>\n",
       "      <td>852139</td>\n",
       "      <td>3266</td>\n",
       "      <td>3795</td>\n",
       "      <td>NaN</td>\n",
       "      <td>NaN</td>\n",
       "      <td>469</td>\n",
       "      <td>NaN</td>\n",
       "      <td>1</td>\n",
       "      <td>430</td>\n",
       "      <td>430</td>\n",
       "      <td>NaN</td>\n",
       "      <td>NaN</td>\n",
       "      <td>NaN</td>\n",
       "      <td>430</td>\n",
       "      <td>1</td>\n",
       "      <td>1</td>\n",
       "      <td>-1</td>\n",
       "      <td>102</td>\n",
       "      <td>97</td>\n",
       "      <td>D126</td>\n",
       "      <td>NaN</td>\n",
       "      <td>D126</td>\n",
       "      <td>NaN</td>\n",
       "      <td>NaN</td>\n",
       "      <td>NaN</td>\n",
       "      <td>NaN</td>\n",
       "      <td>NaN</td>\n",
       "      <td>NaN</td>\n",
       "      <td>NaN</td>\n",
       "      <td>NaN</td>\n",
       "      <td>NaN</td>\n",
       "      <td>NaN</td>\n",
       "      <td>NaN</td>\n",
       "      <td>NaN</td>\n",
       "      <td>NaN</td>\n",
       "      <td>NaN</td>\n",
       "      <td>NaN</td>\n",
       "      <td>NaN</td>\n",
       "      <td>NaN</td>\n",
       "      <td>NaN</td>\n",
       "      <td>NaN</td>\n",
       "      <td>NaN</td>\n",
       "      <td>NaN</td>\n",
       "      <td>NaN</td>\n",
       "      <td>NaN</td>\n",
       "      <td>NaN</td>\n",
       "      <td>NaN</td>\n",
       "      <td>NaN</td>\n",
       "      <td>NaN</td>\n",
       "      <td>NaN</td>\n",
       "      <td>NaN</td>\n",
       "      <td>NaN</td>\n",
       "      <td>NaN</td>\n",
       "      <td>NaN</td>\n",
       "      <td>True</td>\n",
       "      <td>False</td>\n",
       "      <td>K</td>\n",
       "      <td>F71O</td>\n",
       "      <td>2014-12-19 07:31:00.000</td>\n",
       "      <td>2014-12-19 07:31:00.000</td>\n",
       "      <td>2014-12-19 07:32:09.000</td>\n",
       "      <td>NaN</td>\n",
       "      <td>NaN</td>\n",
       "      <td>NaN</td>\n",
       "      <td>NaN</td>\n",
       "      <td>2014-12-19 15:51:56.000</td>\n",
       "      <td>NaN</td>\n",
       "      <td>0</td>\n",
       "      <td>1</td>\n",
       "      <td>NaN</td>\n",
       "      <td>NaN</td>\n",
       "      <td>False</td>\n",
       "      <td>NaN</td>\n",
       "      <td>NaN</td>\n",
       "      <td>NaN</td>\n",
       "      <td>NaN</td>\n",
       "      <td>NaN</td>\n",
       "      <td>NaN</td>\n",
       "      <td>NaN</td>\n",
       "      <td>False</td>\n",
       "      <td>NaN</td>\n",
       "      <td>0</td>\n",
       "      <td>1</td>\n",
       "      <td>1</td>\n",
       "      <td>1</td>\n",
       "      <td>1</td>\n",
       "      <td>0</td>\n",
       "      <td>0</td>\n",
       "      <td>1</td>\n",
       "      <td>0</td>\n",
       "      <td>0</td>\n",
       "      <td>0</td>\n",
       "      <td>0</td>\n",
       "      <td>0</td>\n",
       "      <td>1</td>\n",
       "      <td>1</td>\n",
       "      <td>0</td>\n",
       "      <td>0</td>\n",
       "      <td>0</td>\n",
       "      <td>0</td>\n",
       "      <td>1</td>\n",
       "      <td>NaN</td>\n",
       "      <td>1</td>\n",
       "      <td>102,019177</td>\n",
       "      <td>2014-12-19 20:03:42.000</td>\n",
       "      <td>0</td>\n",
       "    </tr>\n",
       "  </tbody>\n",
       "</table>\n",
       "</div>"
      ],
      "text/plain": [
       "                  PatientID  DokumentID  AkutliggareID   PasID  AnkomstsattID  \\\n",
       "454798 -2658222856580924101      246966          99468  852080           3272   \n",
       "454799 -2658222856580924101      251563          99469     NaN           3265   \n",
       "454800 -2658222856580924101      261864         119362  852123           3272   \n",
       "454801 -2658222856580924101      263780          99470  852126           3266   \n",
       "454802 -2658222856580924101      270416         119363  852139           3266   \n",
       "\n",
       "        ProblemorsakID  BesoksorsakID  ForstaBesoksorsakID  \\\n",
       "454798            3795            NaN                  NaN   \n",
       "454799            3795            NaN                  NaN   \n",
       "454800            3795           3170                 3170   \n",
       "454801            3795           6862                 6862   \n",
       "454802            3795            NaN                  NaN   \n",
       "\n",
       "        FlyttadTillVardenhetID  FlyttadTillLokationID  VardbehovID  \\\n",
       "454798                     NaN                    -91          NaN   \n",
       "454799                     NaN                    -91          NaN   \n",
       "454800                     NaN                    -91          NaN   \n",
       "454801                     NaN                    -91            4   \n",
       "454802                     469                    NaN            1   \n",
       "\n",
       "        VardenhetID  ForstaVardenhetID  ForstaSlutenvardVardenhetID  \\\n",
       "454798           38                 38                          NaN   \n",
       "454799           35                 35                          NaN   \n",
       "454800           38                 38                          NaN   \n",
       "454801           36                 36                          NaN   \n",
       "454802          430                430                          NaN   \n",
       "\n",
       "        AndraSlutenvardVardenhetID  SenasteKonsulteradeVardenhetID  \\\n",
       "454798                         NaN                             NaN   \n",
       "454799                         NaN                             NaN   \n",
       "454800                         NaN                             NaN   \n",
       "454801                         NaN                             NaN   \n",
       "454802                         NaN                             NaN   \n",
       "\n",
       "        SenasteAnsvarigaVardenhetID  PrioritetInID  PrioritetUtID  \\\n",
       "454798                           38            NaN            NaN   \n",
       "454799                           35            NaN            NaN   \n",
       "454800                           38            NaN            NaN   \n",
       "454801                           36              6              6   \n",
       "454802                          430              1              1   \n",
       "\n",
       "        RegistreringsstatusID  AlderID  BesokstypID DiagnoskodOppenvard  \\\n",
       "454798                     -1      101           97                 NaN   \n",
       "454799                     -1      101          NaN                 NaN   \n",
       "454800                     -1      101           97                 NaN   \n",
       "454801                     -1      101           97                 NaN   \n",
       "454802                     -1      102           97                D126   \n",
       "\n",
       "       DiagnoskodSlutenvard Diagnoskod  AndningsfrekvensStatusID  \\\n",
       "454798                  NaN        NaN                         3   \n",
       "454799                  NaN        NaN                       NaN   \n",
       "454800                  NaN        NaN                         2   \n",
       "454801                  NaN        NaN                         2   \n",
       "454802                  NaN       D126                       NaN   \n",
       "\n",
       "        SaturationStatusID  KroppstemperaturStatusID  \\\n",
       "454798                   7                        12   \n",
       "454799                 NaN                       NaN   \n",
       "454800                   7                        12   \n",
       "454801                   8                        12   \n",
       "454802                 NaN                       NaN   \n",
       "\n",
       "        BlodtryckSystolisktOvreStatusID  BlodtryckDiastolisktNedreStatusID  \\\n",
       "454798                               19                                 24   \n",
       "454799                              NaN                                NaN   \n",
       "454800                               18                                 22   \n",
       "454801                               18                                 22   \n",
       "454802                              NaN                                NaN   \n",
       "\n",
       "        GCSOgonoppningStatusID  GCSMotorisktStatusID  GCSVerbaltStatusID  \\\n",
       "454798                     NaN                   NaN                 NaN   \n",
       "454799                     NaN                   NaN                 NaN   \n",
       "454800                     NaN                   NaN                 NaN   \n",
       "454801                     NaN                   NaN                 NaN   \n",
       "454802                     NaN                   NaN                 NaN   \n",
       "\n",
       "        StridorStatusID  PulsfrekvensRegelbundenStatusID  \\\n",
       "454798               41                               45   \n",
       "454799              NaN                              NaN   \n",
       "454800               41                               44   \n",
       "454801               41                               44   \n",
       "454802              NaN                              NaN   \n",
       "\n",
       "        PulsfrekvensOregelbundenStatusID  MedvetandegradRettsStatusID  \\\n",
       "454798                               NaN                           54   \n",
       "454799                               NaN                          NaN   \n",
       "454800                               NaN                          NaN   \n",
       "454801                               NaN                           54   \n",
       "454802                               NaN                          NaN   \n",
       "\n",
       "        SaturationMedSyrgasStatusID  GCSTotalStatusID  KrampanfallStatusID  \\\n",
       "454798                          NaN               NaN                  NaN   \n",
       "454799                          NaN               NaN                  NaN   \n",
       "454800                          NaN               NaN                  NaN   \n",
       "454801                          NaN               NaN                  NaN   \n",
       "454802                          NaN               NaN                  NaN   \n",
       "\n",
       "        LuftvagsstatusRettsStatusID  BLeukocyterStatusID  \\\n",
       "454798                           70                  NaN   \n",
       "454799                          NaN                  NaN   \n",
       "454800                           70                  NaN   \n",
       "454801                           70                  NaN   \n",
       "454802                          NaN                  NaN   \n",
       "\n",
       "        BErytrocyterStatusID  BHemoglobinStatusID  BEVFStatusID  \\\n",
       "454798                   NaN                  NaN           NaN   \n",
       "454799                   NaN                  NaN           NaN   \n",
       "454800                   NaN                  NaN           NaN   \n",
       "454801                   NaN                  NaN           NaN   \n",
       "454802                   NaN                  NaN           NaN   \n",
       "\n",
       "        ErcBMCVStatusID  ErcBMCHStatusID  ErcBMCHCStatusID  \\\n",
       "454798              NaN              NaN               NaN   \n",
       "454799              NaN              NaN               NaN   \n",
       "454800              NaN              NaN               NaN   \n",
       "454801              NaN              NaN               NaN   \n",
       "454802              NaN              NaN               NaN   \n",
       "\n",
       "        BTrombocyterStatusID  PGlukosStatusID  PCRPStatusID  PNatriumStatusID  \\\n",
       "454798                   NaN              NaN           NaN               NaN   \n",
       "454799                   NaN              NaN           NaN               NaN   \n",
       "454800                   NaN              NaN           NaN               NaN   \n",
       "454801                   NaN              NaN           NaN               NaN   \n",
       "454802                   NaN              NaN           NaN               NaN   \n",
       "\n",
       "        PKaliumStatusID  PKreatininStatusID  PTroponinTStatusID  \\\n",
       "454798              NaN                 NaN                 NaN   \n",
       "454799              NaN                 NaN                 NaN   \n",
       "454800              NaN                 NaN                 NaN   \n",
       "454801              NaN                 NaN                 NaN   \n",
       "454802              NaN                 NaN                 NaN   \n",
       "\n",
       "        AnsvarigtVardlag  KonsulteratVardlag  Klar TroligInskrivning  \\\n",
       "454798               NaN                 NaN  True               NaN   \n",
       "454799               NaN                 NaN  True               NaN   \n",
       "454800               NaN                 NaN  True             False   \n",
       "454801               NaN                 NaN  True             False   \n",
       "454802               NaN                 NaN  True             False   \n",
       "\n",
       "       Produkttyp Produktkod          Ankomsttidpunkt  \\\n",
       "454798        NaN        NaN  2014-03-15 14:32:00.000   \n",
       "454799        NaN        NaN  2014-04-24 16:29:00.000   \n",
       "454800        NaN        NaN  2014-09-08 08:29:00.000   \n",
       "454801        NaN        NaN  2014-09-26 10:16:00.000   \n",
       "454802          K       F71O  2014-12-19 07:31:00.000   \n",
       "\n",
       "           Utskrivningstidpunkt    TidregistreringUtTill  \\\n",
       "454798  2014-03-15 15:38:00.000  2014-03-15 15:38:39.000   \n",
       "454799  2014-04-24 16:33:00.000  2014-04-24 16:33:57.000   \n",
       "454800  2014-09-08 09:19:00.000  2014-09-08 09:19:09.000   \n",
       "454801  2014-09-26 10:29:00.000  2014-09-26 10:29:24.000   \n",
       "454802  2014-12-19 07:31:00.000  2014-12-19 07:32:09.000   \n",
       "\n",
       "       ForstaAnsvarigaLakareTidpunkt  ForstaSkoterskaTidpunkt  \\\n",
       "454798                           NaN                      NaN   \n",
       "454799                           NaN                      NaN   \n",
       "454800                           NaN                      NaN   \n",
       "454801                           NaN  2014-09-26 10:21:48.000   \n",
       "454802                           NaN                      NaN   \n",
       "\n",
       "       SenasteAnsvarigaLakareTidpunkt SenasteKonsulteradeVardenhetTidpunkt  \\\n",
       "454798                            NaN                                  NaN   \n",
       "454799                            NaN                                  NaN   \n",
       "454800                            NaN                                  NaN   \n",
       "454801                            NaN                                  NaN   \n",
       "454802                            NaN                                  NaN   \n",
       "\n",
       "       SenasteAnsvarigaVardenhetTidpunkt  TidTillLakareMinuter  \\\n",
       "454798           2014-03-15 15:52:21.000                   NaN   \n",
       "454799           2014-04-24 23:08:12.000                   NaN   \n",
       "454800           2014-09-09 08:21:01.000                   NaN   \n",
       "454801           2014-09-27 23:03:44.000                   NaN   \n",
       "454802           2014-12-19 15:51:56.000                   NaN   \n",
       "\n",
       "        VistelsetidMinuter  VistelsetidPaborjadeTimmar  VantetidTriageMinuter  \\\n",
       "454798                  66                           2                     37   \n",
       "454799                   4                           1                    NaN   \n",
       "454800                  50                           1                     23   \n",
       "454801                  13                           1                      7   \n",
       "454802                   0                           1                    NaN   \n",
       "\n",
       "        HandlaggningstidMinuter Rontgen  RontgenTidTillRemiss  \\\n",
       "454798                      NaN   False                   NaN   \n",
       "454799                      NaN   False                   NaN   \n",
       "454800                      NaN   False                   NaN   \n",
       "454801                      NaN   False                   NaN   \n",
       "454802                      NaN   False                   NaN   \n",
       "\n",
       "        RontgenTidTillUndersokningSlut  RontgenTidTillForstaSvar  Lab  \\\n",
       "454798                             NaN                       NaN  NaN   \n",
       "454799                             NaN                       NaN  NaN   \n",
       "454800                             NaN                       NaN  NaN   \n",
       "454801                             NaN                       NaN  NaN   \n",
       "454802                             NaN                       NaN  NaN   \n",
       "\n",
       "        LabTidTillProvtagning  LabTidTillForstaSvar  LabTidTillAnkomstLab  \\\n",
       "454798                    NaN                   NaN                   NaN   \n",
       "454799                    NaN                   NaN                   NaN   \n",
       "454800                    NaN                   NaN                   NaN   \n",
       "454801                    NaN                   NaN                   NaN   \n",
       "454802                    NaN                   NaN                   NaN   \n",
       "\n",
       "       Intensiv  TidTillIntensiv  AntalIntensivInom72Timmar  AntalIn  AntalUt  \\\n",
       "454798    False              NaN                          0        1        1   \n",
       "454799    False              NaN                          0        1        1   \n",
       "454800    False              NaN                          0        1        1   \n",
       "454801    False              NaN                          0        1        1   \n",
       "454802    False              NaN                          0        1        1   \n",
       "\n",
       "        AntalInvolveradeEnheter  AntalAnsvarigaEnheter  \\\n",
       "454798                        1                      1   \n",
       "454799                        1                      1   \n",
       "454800                        1                      1   \n",
       "454801                        1                      1   \n",
       "454802                        1                      1   \n",
       "\n",
       "        AntalKonsulteradeEnheter  AntalTillLakareInom40Minuter  \\\n",
       "454798                         0                             0   \n",
       "454799                         0                             0   \n",
       "454800                         0                             0   \n",
       "454801                         0                             0   \n",
       "454802                         0                             0   \n",
       "\n",
       "        AntalKlarInom4Timmar  AntalEjKlarInom8Timmar  \\\n",
       "454798                     1                       0   \n",
       "454799                     1                       0   \n",
       "454800                     1                       0   \n",
       "454801                     1                       0   \n",
       "454802                     1                       0   \n",
       "\n",
       "        AntalVistelsetid8Till12Timmar  AntalVistelsetid12Till16Timmar  \\\n",
       "454798                              0                               0   \n",
       "454799                              0                               0   \n",
       "454800                              0                               0   \n",
       "454801                              0                               0   \n",
       "454802                              0                               0   \n",
       "\n",
       "        AntalVistelsetidOver16Timmar  AntalUtanforRettsTidsriktlinje  \\\n",
       "454798                             0                               0   \n",
       "454799                             0                               0   \n",
       "454800                             0                               0   \n",
       "454801                             0                               0   \n",
       "454802                             0                               0   \n",
       "\n",
       "        AntalAterbesokInom72Timmar  AntalBesok  AntalAvlidnaInom7Dagar  \\\n",
       "454798                           0           0                       0   \n",
       "454799                           0           0                       0   \n",
       "454800                           0           0                       0   \n",
       "454801                           0           0                       0   \n",
       "454802                           1           1                       0   \n",
       "\n",
       "        AntalAvlidnaInom30Dagar  AntalSlutenvardInom6Timmar  \\\n",
       "454798                        0                           0   \n",
       "454799                        0                           0   \n",
       "454800                        0                           0   \n",
       "454801                        0                           0   \n",
       "454802                        0                           0   \n",
       "\n",
       "        AntalSlutenvardInom12Timmar  AntalDiagnoserOppenvard  \\\n",
       "454798                            0                        0   \n",
       "454799                            0                        0   \n",
       "454800                            0                        0   \n",
       "454801                            0                        0   \n",
       "454802                            0                        1   \n",
       "\n",
       "        AntalDiagnoserSlutenvard  AntalDiagnoser               Alder  \\\n",
       "454798                       NaN               0  101,25478699999999   \n",
       "454799                       NaN               0          101,364373   \n",
       "454800                       NaN               0          101,739705   \n",
       "454801                       NaN               0          101,789019   \n",
       "454802                       NaN               1          102,019177   \n",
       "\n",
       "               SenastUppdaterad  AntalOvernattningar  \n",
       "454798  2014-03-15 20:01:49.000                    0  \n",
       "454799  2014-04-25 20:03:20.000                    0  \n",
       "454800  2014-09-09 20:04:00.000                    0  \n",
       "454801  2014-09-28 20:01:21.000                    0  \n",
       "454802  2014-12-19 20:03:42.000                    0  "
      ]
     },
     "execution_count": 96,
     "metadata": {},
     "output_type": "execute_result"
    }
   ],
   "source": [
    "data.tail()"
   ]
  },
  {
   "cell_type": "markdown",
   "metadata": {},
   "source": [
    "####Setup In-patient category column\n",
    "We use the column First in-patient care unit (ForstaSlutenvardVardenhetID) to categorize patients as In-patients. \n",
    "This tells us if a person has become an in-patient in connection with the recorded observation and to predict that is also the goal of our predictive model."
   ]
  },
  {
   "cell_type": "code",
   "execution_count": 97,
   "metadata": {
    "collapsed": false
   },
   "outputs": [],
   "source": [
    "first_care_unit = data.ForstaSlutenvardVardenhetID\n",
    "\n",
    "data['Inpatient'] = ~first_care_unit.isnull() & (first_care_unit != 0)"
   ]
  },
  {
   "cell_type": "markdown",
   "metadata": {},
   "source": [
    "#### Arrival date \n",
    "Convert arrival date data type from text to date and create derived columns for weekday, month and day. This is an example of feature engineering where we create to data set column that can be used downstreams. For example we might see some cases where Saturdays or 9 am show up as a strongly predictive feature for becoming in-patient."
   ]
  },
  {
   "cell_type": "code",
   "execution_count": 98,
   "metadata": {
    "collapsed": true
   },
   "outputs": [],
   "source": [
    "import dateutil.parser as duparse\n",
    "\n",
    "data['Date'] = data['Ankomsttidpunkt'].map(lambda s: duparse.parse(s))\n",
    "data['Hour'] = data['Date'].dt.hour\n",
    "data['Weekday'] = data['Date'].dt.dayofweek\n",
    "data['Month'] = data['Date'].dt.month"
   ]
  },
  {
   "cell_type": "markdown",
   "metadata": {},
   "source": [
    "####Partitioning dataset columns into sub domains"
   ]
  },
  {
   "cell_type": "code",
   "execution_count": 99,
   "metadata": {
    "collapsed": false
   },
   "outputs": [],
   "source": [
    "general_columns = ['AnkomstsattID', 'ProblemorsakID', 'BesoksorsakID', 'PrioritetInID', 'Alder',\n",
    "                   'Hour', 'Weekday', 'Month']\n",
    "\n",
    "\n",
    "triage_columns = ['AndningsfrekvensStatusID', 'SaturationStatusID', 'KroppstemperaturStatusID', \n",
    "                   'BlodtryckSystolisktOvreStatusID', 'BlodtryckDiastolisktNedreStatusID', 'GCSOgonoppningStatusID',\n",
    "                   'GCSMotorisktStatusID', 'GCSVerbaltStatusID', 'StridorStatusID', 'PulsfrekvensRegelbundenStatusID',\n",
    "                   'PulsfrekvensOregelbundenStatusID', 'MedvetandegradRettsStatusID', 'SaturationMedSyrgasStatusID']\n",
    "\n",
    "\n",
    "lab_columns = ['LabTidTillForstaSvar']\n",
    "\n",
    "\n",
    "input_columns = general_columns + triage_columns\n",
    "\n",
    "output_column = 'Inpatient'"
   ]
  },
  {
   "cell_type": "markdown",
   "metadata": {},
   "source": [
    "#### Transform triage categories\n",
    "Change value cell values from x to x-(xmin-1)"
   ]
  },
  {
   "cell_type": "code",
   "execution_count": 100,
   "metadata": {
    "collapsed": false
   },
   "outputs": [],
   "source": [
    "#  aligning triage data classes\n",
    "for col in triage_columns:\n",
    "    data[col] = data[col] - (data[col].min() - 1)\n",
    "    \n",
    "\n",
    "\n",
    "\n",
    "\n"
   ]
  },
  {
   "cell_type": "markdown",
   "metadata": {},
   "source": [
    "####Miscellaneous transformations"
   ]
  },
  {
   "cell_type": "code",
   "execution_count": 101,
   "metadata": {
    "collapsed": true
   },
   "outputs": [],
   "source": [
    "# convert age to number\n",
    "data['Alder'] = data.Alder.map(lambda a: float(str(a).replace(',', '.')))\n",
    "  \n"
   ]
  },
  {
   "cell_type": "markdown",
   "metadata": {},
   "source": [
    "#### Copy of cleansed data set for downstream use    \n"
   ]
  },
  {
   "cell_type": "code",
   "execution_count": 102,
   "metadata": {
    "collapsed": false
   },
   "outputs": [
    {
     "data": {
      "text/plain": [
       "1.0"
      ]
     },
     "execution_count": 102,
     "metadata": {},
     "output_type": "execute_result"
    }
   ],
   "source": [
    "dataclean = data.copy()\n",
    "\n",
    "dataclean['SaturationStatusID'].min()\n",
    "\n",
    "#data[input_columns]\n"
   ]
  },
  {
   "cell_type": "markdown",
   "metadata": {},
   "source": [
    "#### Imputation\n",
    "Replace NaNs and nulls with -10 so that libraries which don't work well with NaNs will accept our dataset"
   ]
  },
  {
   "cell_type": "code",
   "execution_count": 103,
   "metadata": {
    "collapsed": false
   },
   "outputs": [
    {
     "name": "stdout",
     "output_type": "stream",
     "text": [
      "1.0\n"
     ]
    }
   ],
   "source": [
    "\n",
    "for col in input_columns:\n",
    "    is_null = data[col].isnull()\n",
    "    data.loc[is_null, col] = -10\n",
    "    \n",
    "print dataclean['SaturationStatusID'].min()    \n",
    "for col in input_columns:\n",
    "    is_null = dataclean[col].isnull()\n",
    "    dataclean.loc[is_null, col] = dataclean[col].min()-1    \n",
    "    \n",
    "\n",
    "\n",
    "\n"
   ]
  },
  {
   "cell_type": "markdown",
   "metadata": {},
   "source": [
    "# 3. Setup test and training datasets"
   ]
  },
  {
   "cell_type": "code",
   "execution_count": 1,
   "metadata": {
    "collapsed": false
   },
   "outputs": [
    {
     "ename": "NameError",
     "evalue": "name 'np' is not defined",
     "output_type": "error",
     "traceback": [
      "\u001b[1;31m---------------------------------------------------------------------------\u001b[0m",
      "\u001b[1;31mNameError\u001b[0m                                 Traceback (most recent call last)",
      "\u001b[1;32m<ipython-input-1-e8689ab250a7>\u001b[0m in \u001b[0;36m<module>\u001b[1;34m()\u001b[0m\n\u001b[1;32m----> 1\u001b[1;33m \u001b[0mnp\u001b[0m\u001b[1;33m.\u001b[0m\u001b[0mrandom\u001b[0m\u001b[1;33m.\u001b[0m\u001b[0mseed\u001b[0m\u001b[1;33m(\u001b[0m\u001b[1;36m921\u001b[0m\u001b[1;33m)\u001b[0m\u001b[1;33m\u001b[0m\u001b[0m\n\u001b[0m\u001b[0;32m      2\u001b[0m \u001b[0mmask\u001b[0m \u001b[1;33m=\u001b[0m \u001b[0mnp\u001b[0m\u001b[1;33m.\u001b[0m\u001b[0mrandom\u001b[0m\u001b[1;33m.\u001b[0m\u001b[0mchoice\u001b[0m\u001b[1;33m(\u001b[0m\u001b[1;33m[\u001b[0m\u001b[1;36m0\u001b[0m\u001b[1;33m,\u001b[0m \u001b[1;36m1\u001b[0m\u001b[1;33m]\u001b[0m\u001b[1;33m,\u001b[0m \u001b[0mdata\u001b[0m\u001b[1;33m.\u001b[0m\u001b[0mshape\u001b[0m\u001b[1;33m[\u001b[0m\u001b[1;36m0\u001b[0m\u001b[1;33m]\u001b[0m\u001b[1;33m,\u001b[0m \u001b[0mp\u001b[0m\u001b[1;33m=\u001b[0m\u001b[1;33m[\u001b[0m\u001b[1;36m0.1\u001b[0m\u001b[1;33m,\u001b[0m \u001b[1;36m0.9\u001b[0m\u001b[1;33m]\u001b[0m\u001b[1;33m)\u001b[0m\u001b[1;33m\u001b[0m\u001b[0m\n\u001b[0;32m      3\u001b[0m \u001b[1;33m\u001b[0m\u001b[0m\n\u001b[0;32m      4\u001b[0m \u001b[0mtest_data\u001b[0m \u001b[1;33m=\u001b[0m \u001b[0mdata\u001b[0m\u001b[1;33m[\u001b[0m\u001b[0mmask\u001b[0m \u001b[1;33m==\u001b[0m \u001b[1;36m0\u001b[0m\u001b[1;33m]\u001b[0m\u001b[1;33m.\u001b[0m\u001b[0mcopy\u001b[0m\u001b[1;33m(\u001b[0m\u001b[1;33m)\u001b[0m\u001b[1;33m\u001b[0m\u001b[0m\n\u001b[0;32m      5\u001b[0m \u001b[0mtrain_data\u001b[0m \u001b[1;33m=\u001b[0m \u001b[0mdata\u001b[0m\u001b[1;33m[\u001b[0m\u001b[0mmask\u001b[0m \u001b[1;33m==\u001b[0m \u001b[1;36m1\u001b[0m\u001b[1;33m]\u001b[0m\u001b[1;33m.\u001b[0m\u001b[0mcopy\u001b[0m\u001b[1;33m(\u001b[0m\u001b[1;33m)\u001b[0m\u001b[1;33m\u001b[0m\u001b[0m\n",
      "\u001b[1;31mNameError\u001b[0m: name 'np' is not defined"
     ]
    }
   ],
   "source": [
    "np.random.seed(921)\n",
    "mask = np.random.choice([0, 1], data.shape[0], p=[0.1, 0.9])\n",
    "\n",
    "test_data = data[mask == 0].copy()\n",
    "train_data = data[mask == 1].copy()"
   ]
  },
  {
   "cell_type": "markdown",
   "metadata": {},
   "source": [
    "# 4. EDA"
   ]
  },
  {
   "cell_type": "markdown",
   "metadata": {},
   "source": [
    "The Er Log the project has access to has 100+ fields and one defensive initial idea are to focus on the triage data. The first examination plus the medical history of the patient are what nurses and doctor are using to assess the status of a patient and also to give a patient an initial priority. Many Swedish hospital is using Retts (http://predicare.se/en/om-retts/) decision support system for emergency medicine when assessing the patients and at the time of assessment a number of vital parameters are collected.\n",
    "\n",
    "            \n",
    "In that way the project piggy rides on the domain knowledge of the organisation and try to use features that they use. We will see if that is a good or bad idea, but we can always extend with more features later on. We only have access to the ER log and not the medical history of the patients and there already from the beginning we have some limitations that most probably will affect the precision of our predictions. In addition to that we do not get the “touch and feel” a nurse and doctor get’s when talking to a patient, they can use their hands to feel body temperature, sweating and pinpoint things like abdominal pains etc.\n",
    "\n",
    "The vital parameters that we have access to are \n",
    "\n",
    "* Breathing frequency\n",
    "* Saturation Status\n",
    "* Body temperature \n",
    "* Bllodpressure Systolic Upper \n",
    "* Blood pressure Systolic Lower \n",
    "* GCS Eye opening Status \n",
    "* GCS Motoric Status\n",
    "* GCS Verbal Status\n",
    "* Stridor Status\n",
    "* Pulse frequency regular\n",
    "* Pulse frequency irregular \n",
    "* Consciousness Retts scale status \n",
    "* Saturation with oxygen status\n",
    "\n",
    "In addition to that we will use patient Age and hopefully Gender (Gender was not part of the initial dataset )\n",
    "(by Kostya. We actually can use time of the day and month of the year as predictors, I am sure there're seasonal\n",
    "changes in different diagnoses)\n",
    "\n",
    "We aim to predict if a patient will need further care and become an Inpatient. The diagram below shows the relation between Inpatients and Others. Others include people going home  and outpatients. The main difference between an outpatient and an inpatient from a hospital logistics perspective is that the inpatients stays overnight and requires more resources. An outpatient may have an appointment at the hospital for example the following day or a week later for check up but their direct interaction (and use of resources) with the hospital is relatively brief."
   ]
  },
  {
   "cell_type": "markdown",
   "metadata": {},
   "source": [
    "## Inpatient / Outpatient distribution"
   ]
  },
  {
   "cell_type": "code",
   "execution_count": null,
   "metadata": {
    "collapsed": false
   },
   "outputs": [],
   "source": [
    "ct = pd.crosstab(data['Date'].dt.year, data['Inpatient'])\n",
    "ct.index.name = 'Year'\n",
    "ct"
   ]
  },
  {
   "cell_type": "code",
   "execution_count": null,
   "metadata": {
    "collapsed": false
   },
   "outputs": [],
   "source": [
    "plt.bar(ct.index.values, ct[True], width=0.4, color='red', label='Inpatient')\n",
    "plt.bar(ct.index.values + 0.4, ct[False], width=0.4, color='green', label='Other')\n",
    "plt.xticks([2013, 2014, 2015], ['2013', '2014'])\n",
    "plt.xlabel('Year')\n",
    "plt.ylim(0,250000)\n",
    "\n",
    "plt.legend()"
   ]
  },
  {
   "cell_type": "code",
   "execution_count": null,
   "metadata": {
    "collapsed": false
   },
   "outputs": [],
   "source": [
    "# Statistics for narrative - Inpatient waiting times\n",
    "\n",
    "\n",
    "print data[data['Inpatient'] == 1][['VantetidTriageMinuter','TidTillLakareMinuter','VistelsetidMinuter']].mean()\n",
    "\n",
    "print data[data['Inpatient'] == 0][['VantetidTriageMinuter','TidTillLakareMinuter','VistelsetidMinuter']].mean()\n",
    "\n",
    "\n",
    "# Outpatient revisiting ER within 72h\n",
    "print data[data['Inpatient'] == 0][['AntalAterbesokInom72Timmar']].sum()\n",
    "\n",
    "\n",
    "# Outpatient revisiting ER to become inpatients\n",
    "# This is a little bit simplified algoritm so the actual\n",
    "# result will be slightly lower as we should really look for patients\n",
    "# becoming inpatients within 72h, but it still tells a story out of 100 000 in patients almost \n",
    "# 1/3 was send home/became outpatients becore actually being admitted as inpatients.\n",
    "outp72h = data[(data['Inpatient'] == 0) & (data['AntalAterbesokInom72Timmar']==1)]\n",
    "dfResult = pd.merge(data,outp72h,how='inner',on='PatientID',suffixes=('','72h'))\n",
    "print len(dfResult[(dfResult['Inpatient'] == 1) & (dfResult['Inpatient'] > dfResult['Inpatient72h'])])\n",
    "# About 30 000\n",
    "\n",
    "\n",
    "\n",
    "\n",
    "\n",
    "\n",
    "\n"
   ]
  },
  {
   "cell_type": "markdown",
   "metadata": {},
   "source": [
    "## Summary statistics of different predictor columns\n",
    "\n"
   ]
  },
  {
   "cell_type": "code",
   "execution_count": null,
   "metadata": {
    "collapsed": false
   },
   "outputs": [],
   "source": [
    "dataclean[input_columns].describe()"
   ]
  },
  {
   "cell_type": "markdown",
   "metadata": {},
   "source": [
    "## Distribution of predictor columns by inpatient status"
   ]
  },
  {
   "cell_type": "code",
   "execution_count": 89,
   "metadata": {
    "collapsed": false
   },
   "outputs": [
    {
     "data": {
      "text/plain": [
       "1.0"
      ]
     },
     "execution_count": 89,
     "metadata": {},
     "output_type": "execute_result"
    }
   ],
   "source": [
    "dataclean['SaturationStatusID'].min()"
   ]
  },
  {
   "cell_type": "code",
   "execution_count": 104,
   "metadata": {
    "collapsed": false
   },
   "outputs": [
    {
     "data": {
      "image/png": "[encoded data removed]",
      "text/plain": [
       "<matplotlib.figure.Figure at 0x181f3a358>"
      ]
     },
     "metadata": {},
     "output_type": "display_data"
    }
   ],
   "source": [
    "def plot_column(ax, col):\n",
    "    sns.distplot(dataclean[col][dataclean.Inpatient == 1] , kde=False, ax=ax,axlabel=False, label='Inpatient', norm_hist=False,color='Red')\n",
    "    sns.distplot(dataclean[col][dataclean.Inpatient == 0] , kde=False, ax=ax,axlabel=False, label='Other', norm_hist=False,color='Green')\n",
    "    ax.set_title(col, horizontalalignment='center', verticalalignment='top')\n",
    "\n",
    "    ax.legend()\n",
    "\n",
    "    \n",
    "\n",
    "fig, axes = plt.subplots(nrows=8, ncols=3, sharex=False, sharey=False, figsize=(10, 20))\n",
    " \n",
    "fig.tight_layout()\n",
    "\n",
    "for ax, col in zip(axes.ravel(), input_columns):\n",
    "    plot_column(ax, col)"
   ]
  },
  {
   "cell_type": "markdown",
   "metadata": {},
   "source": [
    "Almost all columns, have substantially different distributions for both cases. The most promising vars are:\n",
    "\n",
    "* AndningsfrekvensStatusID\n",
    "* BlodtryckSystolisktOvreStatusID\n",
    "* BlodtryckDiastolisktNedreStatusID\n",
    "* StridorStatusID\n",
    "* Alder"
   ]
  },
  {
   "cell_type": "code",
   "execution_count": null,
   "metadata": {
    "collapsed": true
   },
   "outputs": [],
   "source": [
    "promising_inputs = ['AndningsfrekvensStatusID', 'BlodtryckSystolisktOvreStatusID', \n",
    "                    'BlodtryckDiastolisktNedreStatusID', 'StridorStatusID', 'Alder']"
   ]
  },
  {
   "cell_type": "markdown",
   "metadata": {},
   "source": []
  },
  {
   "cell_type": "markdown",
   "metadata": {},
   "source": [
    "## Pairplot"
   ]
  },
  {
   "cell_type": "markdown",
   "metadata": {},
   "source": [
    "Let's draw a pairplot for the most promising vars. We use a sample from the data bacause sns.pairplot doesn't work well a large number of points. "
   ]
  },
  {
   "cell_type": "code",
   "execution_count": null,
   "metadata": {
    "collapsed": false,
    "scrolled": false
   },
   "outputs": [],
   "source": [
    "sample_data = train_data.sample(n=200, replace=True, random_state=72)\n",
    "\n",
    "sns.pairplot(sample_data, vars=promising_inputs, hue='Inpatient', size=3)"
   ]
  },
  {
   "cell_type": "markdown",
   "metadata": {},
   "source": [
    "On the pairplots we see that there're some places when we see one kind of patients more often than others. However, nothing conclusive can be made from this chart."
   ]
  },
  {
   "cell_type": "markdown",
   "metadata": {},
   "source": [
    "## A case of missing values \n",
    "\n",
    "Theory \n",
    "Missing data impacts learning, inference, and prediction (in relation to machine learning methods). \n",
    "\n",
    "Two base categories of missing data: \n",
    "\n",
    "* Data that is missing at random\n",
    "Randomly missing data can be ignores and inference can be based on the observed data only. \n",
    "\n",
    "    \n",
    "* Data that is not missing at random\n",
    "Ignoring missing data leads to bias, one reason is that some features depend on each other\n",
    "    \n",
    "These base categories can be divided further into sub categories but the point here \n",
    "is that it is very hard to prove that data is randomly missing so we need a method to deal with the missing data. Also most classifiers have no natural ability to deal with missing data.\n",
    "\n",
    "References:\n",
    "http://www.cs.toronto.edu/~marlin/research/phd_thesis/marlin-phd-thesis.pdf, Benjamin M. Marlin, Page 1\n",
    "\n",
    "http://www.stat.columbia.edu/~gelman/arm/missing.pdf\n",
    "\n",
    "### Project strategies for missing values\n",
    "\n",
    "   \n",
    "    \n",
    "#### Complete case analysis\n",
    "Delete all cases where we do not have full data. The problem with this is that we would introduce bias, a practical example from this project is that if we would use complete case analysis as a strategy with the features we have selected (primarily variables determined at triage time) we would only have patients who were measured against GCS, Glasgow Coma Scale, and if a patient(case) is so measured they are in most of the cases already in a bad condition so any predictions would be biased.\n",
    "\n",
    "\n",
    "#### Imputation \n",
    "Fill in missing values or with another wording: imputate the values. One easy approach would be to  use the mean but that would have it's own  problems for example that the standard deviation would be underestimated. We can also hook into scikit-learnspreprocessing Imputer class to try out various fill in strategies.\n",
    "\n",
    "\n",
    "#### Random forests and missing values\n",
    "\n",
    "Missing value replacement for the training set\n",
    "https://www.stat.berkeley.edu/~breiman/RandomForests/cc_home.htm#missing1\n",
    "( Random Forests, Leo Breiman and Adele Cutler)\n",
    "\n",
    "\n"
   ]
  },
  {
   "cell_type": "code",
   "execution_count": null,
   "metadata": {
    "collapsed": false
   },
   "outputs": [],
   "source": [
    "##Missing values in numbers\n",
    "\n",
    "if len(dfTriage) != len(data):\n",
    "    print \"You messed up the data\"\n",
    "\n",
    "dfTriageMissing =   dfTriage.isnull().sum()\n",
    "\n",
    "#print dfTriageMissing.index\n",
    "\n",
    "xticks=dfTriageMissing.index\n",
    "xvalues=dfTriageMissing.values\n",
    "\n",
    "\n",
    "plotdata = {'Missing triage data' : pd.Series(xvalues, index=xticks) }\n",
    "dfPlot = pd.DataFrame(plotdata)\n",
    "\n",
    "c = 'Missing triage data'\n",
    "dfPlot[c].plot(kind='bar',title=c)\n",
    "plt.ylabel('Number of missing values')\n",
    "plt.xlabel('Triage feature')\n",
    "plt.grid(False)\n",
    "x1,x2,y1,y2 = plt.axis()\n",
    "plt.axis((x1,x2,0,len(dfTriage)))\n",
    "plt.show()\n",
    "\n",
    "\n",
    "\n"
   ]
  },
  {
   "cell_type": "code",
   "execution_count": null,
   "metadata": {
    "collapsed": false
   },
   "outputs": [],
   "source": [
    "import math\n",
    "xticks=dfTriageMissing.index\n",
    "xvalues=(dfTriageMissing.values/(len(dfTriage)*1.0))*100.0\n",
    "\n",
    "\n",
    "plotdata = {'Missing triage data' : pd.Series(xvalues, index=xticks) }\n",
    "dfPlot = pd.DataFrame(plotdata)\n",
    "\n",
    "c = 'Missing triage data'\n",
    "dfPlot[c].plot(kind='bar',title=c)\n",
    "plt.ylabel('% of missing values')\n",
    "plt.xlabel('Triage feature')\n",
    "plt.grid(False)\n",
    "x1,x2,y1,y2 = plt.axis()\n",
    "plt.axis((x1,x2,0,100))\n",
    "plt.axhline(y=60,color='g')\n",
    "plt.show()\n"
   ]
  },
  {
   "cell_type": "code",
   "execution_count": null,
   "metadata": {
    "collapsed": false
   },
   "outputs": [],
   "source": [
    "# Show variable distribution before imputation\n",
    "\n",
    "# FIX THE BINS!!!\n",
    "\n",
    "subdata = data[pd.notnull(data['AndningsfrekvensStatusID'])]\n",
    "varsubdata = subdata['AndningsfrekvensStatusID']\n",
    "\n",
    "binwidth = 1\n",
    "bins=range(min(varsubdata).astype(np.int64), max(varsubdata).astype(np.int64) + binwidth, binwidth)\n",
    "\n",
    "plt.hist(varsubdata, bins=bins,normed=1, histtype='bar')\n",
    "plt.title(\"Andningsfrekvens\")\n",
    "plt.xlabel(\"Value\")\n",
    "plt.ylabel(\"Frequency\")\n",
    "plt.show()"
   ]
  },
  {
   "cell_type": "code",
   "execution_count": null,
   "metadata": {
    "collapsed": false
   },
   "outputs": [],
   "source": [
    "print data[triage_columns]"
   ]
  },
  {
   "cell_type": "code",
   "execution_count": null,
   "metadata": {
    "collapsed": true
   },
   "outputs": [],
   "source": [
    "# Show variable distribution afters scikit imputation"
   ]
  },
  {
   "cell_type": "markdown",
   "metadata": {},
   "source": [
    "# 4. Predictions"
   ]
  },
  {
   "cell_type": "markdown",
   "metadata": {},
   "source": [
    "let's prepare sklearn compatible input:"
   ]
  },
  {
   "cell_type": "code",
   "execution_count": null,
   "metadata": {
    "collapsed": false
   },
   "outputs": [],
   "source": [
    "train_data_in = train_data[input_columns]\n",
    "train_data_out = train_data[output_column]\n",
    "\n",
    "test_data_in = test_data[input_columns]\n",
    "test_data_out = test_data[output_column]"
   ]
  },
  {
   "cell_type": "markdown",
   "metadata": {},
   "source": [
    "Utility to train classifiers"
   ]
  },
  {
   "cell_type": "code",
   "execution_count": null,
   "metadata": {
    "collapsed": false
   },
   "outputs": [],
   "source": [
    "def train(cls, sample_size=-1):\n",
    "    if sample_size == -1:\n",
    "        inp = train_data_in\n",
    "        out = train_data_out\n",
    "    else:\n",
    "        indicies = np.arange(len(train_data_in))\n",
    "        np.random.shuffle(indicies)\n",
    "        indicies = indicies[0:(sample_size - 1)]\n",
    "        \n",
    "        inp = train_data_in.iloc[indicies]\n",
    "        out = train_data_out.iloc[indicies]\n",
    "    \n",
    "    cls.fit(inp, out)\n",
    "    score = cls.score(test_data_in, test_data_out)\n",
    "    return cls, score"
   ]
  },
  {
   "cell_type": "markdown",
   "metadata": {},
   "source": [
    "As a baseline we consider a model which always predicts that the patient is inpatient. It's not exactly correct, since the cost of sending home a patient who's seriously ill very high. But, we can use it as a simple comparison baseline"
   ]
  },
  {
   "cell_type": "code",
   "execution_count": null,
   "metadata": {
    "collapsed": false
   },
   "outputs": [],
   "source": [
    "1 - np.mean(train_data_out)"
   ]
  },
  {
   "cell_type": "markdown",
   "metadata": {},
   "source": [
    "## Random tree"
   ]
  },
  {
   "cell_type": "code",
   "execution_count": null,
   "metadata": {
    "collapsed": false
   },
   "outputs": [],
   "source": [
    "decision_tree, dt_score = train(tree.DecisionTreeClassifier())\n",
    "print dt_score"
   ]
  },
  {
   "cell_type": "markdown",
   "metadata": {},
   "source": [
    "## Random forests"
   ]
  },
  {
   "cell_type": "code",
   "execution_count": null,
   "metadata": {
    "collapsed": false
   },
   "outputs": [],
   "source": [
    "rf, rf_score = train(ensemble.RandomForestClassifier(class_weight='subsample'))\n",
    "print rf.feature_importances_\n",
    "print rf_score\n"
   ]
  },
  {
   "cell_type": "markdown",
   "metadata": {},
   "source": [
    "## Logistic regression"
   ]
  },
  {
   "cell_type": "code",
   "execution_count": null,
   "metadata": {
    "collapsed": false
   },
   "outputs": [],
   "source": [
    "log_reg, lr_score = train(linear_model.LogisticRegression())\n",
    "print lr_score"
   ]
  },
  {
   "cell_type": "markdown",
   "metadata": {},
   "source": [
    "## Linear SVM"
   ]
  },
  {
   "cell_type": "code",
   "execution_count": null,
   "metadata": {
    "collapsed": false
   },
   "outputs": [],
   "source": [
    "lsvm_c, lsvm_c_score = train(svm.LinearSVC())\n",
    "print lsvm_c_score"
   ]
  },
  {
   "cell_type": "markdown",
   "metadata": {},
   "source": [
    "## SVM"
   ]
  },
  {
   "cell_type": "markdown",
   "metadata": {},
   "source": [
    "*TODO*"
   ]
  },
  {
   "cell_type": "markdown",
   "metadata": {},
   "source": [
    "## ROC Curves"
   ]
  },
  {
   "cell_type": "code",
   "execution_count": null,
   "metadata": {
    "collapsed": false
   },
   "outputs": [],
   "source": [
    "def draw_roc(cls, label):\n",
    "    if ('predict_proba' in dir(cls)):\n",
    "        fpr, tpr, thresh = metrics.roc_curve(test_data_out, cls.predict_proba(test_data_in)[:,1])\n",
    "    else:\n",
    "        fpr, tpr, thresh = metrics.roc_curve(test_data_out, cls.decision_function(test_data_in))\n",
    "    auc = metrics.auc(fpr, tpr)\n",
    "\n",
    "    plt.plot(fpr, tpr, label=(label + '(AUC = {0:.2f})'.format(auc)))\n",
    "\n",
    "    plt.xlabel('fpr')\n",
    "    plt.ylabel('tpr')\n",
    "    plt.xlim([0, 1.0])\n",
    "    plt.ylim([0, 1.0])\n",
    "    \n",
    "    plt.legend(loc='lower right')\n",
    "\n",
    "    \n",
    "plt.figure(figsize=(20, 20))\n",
    "    \n",
    "draw_roc(lsvm_c, 'LSVM')\n",
    "draw_roc(log_reg, 'LogReg')\n",
    "draw_roc(rf, 'Random Forest')\n",
    "draw_roc(decision_tree, 'Decision Tree')"
   ]
  },
  {
   "cell_type": "markdown",
   "metadata": {},
   "source": [
    "As we can see from the chart, random forest is the best method. Logistic regression seems to be better on the part of the chart with fpr above 0.8 but not substantially so."
   ]
  },
  {
   "cell_type": "markdown",
   "metadata": {},
   "source": [
    "##Comparison Full cases instead of using imputation method"
   ]
  },
  {
   "cell_type": "code",
   "execution_count": null,
   "metadata": {
    "collapsed": true
   },
   "outputs": [],
   "source": [
    "# Full cases\n",
    "# From above we pick all variabels that have at least 40% of filled values \n",
    "columns_fullcase = ['AndningsfrekvensStatusID', 'SaturationStatusID', 'KroppstemperaturStatusID', \n",
    "                   'BlodtryckSystolisktOvreStatusID', 'BlodtryckDiastolisktNedreStatusID',                     'PulsfrekvensRegelbundenStatusID',\n",
    "                    'MedvetandegradRettsStatusID','AnkomstsattID', 'ProblemorsakID', 'BesoksorsakID', 'PrioritetInID', 'Alder',\n",
    "                   'Hour', 'Weekday', 'Month','Inpatient']\n",
    "\n",
    "\n",
    "dfFullCase = orgdata[columns_fullcase]\n",
    "\n",
    "# messy willl rewrite\n",
    "columns_fullcase = ['AndningsfrekvensStatusID', 'SaturationStatusID', 'KroppstemperaturStatusID', \n",
    "                   'BlodtryckSystolisktOvreStatusID', 'BlodtryckDiastolisktNedreStatusID',                     'PulsfrekvensRegelbundenStatusID',\n",
    "                    'MedvetandegradRettsStatusID','AnkomstsattID', 'ProblemorsakID', 'BesoksorsakID', 'PrioritetInID', 'Alder',\n",
    "                   'Hour', 'Weekday', 'Month']\n",
    "\n",
    "\n",
    "\n",
    "dfFullCase['NoOfMissingData'] = dfFullCase.isnull().sum(axis=1)\n",
    "\n",
    "#dfFullCase['NoOfMissingData']\n",
    "\n",
    "dfFullCaseComplete = dfFullCase[dfFullCase['NoOfMissingData'] == 0]\n",
    "#print len(dfFullCaseComplete)\n",
    "# 147843\n",
    "# So we have a subset of 147843 ful cases o work with if we want to\n",
    "# of course if we add furtherfeatures variables we always need to go \n",
    "# bak and see how they affect our full cases count\n",
    "\n",
    "\n",
    "\n",
    "np.random.seed(921)\n",
    "mask = np.random.choice([0, 1], dfFullCaseComplete.shape[0], p=[0.1, 0.9])\n",
    "\n",
    "fulltest_data = dfFullCaseComplete[mask == 0].copy()\n",
    "fulltrain_data = dfFullCaseComplete[mask == 1].copy()"
   ]
  },
  {
   "cell_type": "code",
   "execution_count": null,
   "metadata": {
    "collapsed": false
   },
   "outputs": [],
   "source": [
    "# Test full case\n",
    "\n",
    "train_data_in_full = fulltrain_data[columns_fullcase]\n",
    "train_data_out_full = fulltrain_data[output_column]\n",
    "\n",
    "test_data_in_full = fulltest_data[columns_fullcase]\n",
    "test_data_out_full = fulltest_data[output_column]\n",
    "\n"
   ]
  },
  {
   "cell_type": "code",
   "execution_count": null,
   "metadata": {
    "collapsed": true
   },
   "outputs": [],
   "source": [
    "def train_full(cls, sample_size=-1):\n",
    "    if sample_size == -1:\n",
    "        inp = train_data_in_full\n",
    "        out = train_data_out_full\n",
    "    else:\n",
    "        indicies = np.arange(len(train_data_in_full))\n",
    "        np.random.shuffle(indicies)\n",
    "        indicies = indicies[0:(sample_size - 1)]\n",
    "        \n",
    "        inp = train_data_in_full.iloc[indicies]\n",
    "        out = train_data_out_full.iloc[indicies]\n",
    "    \n",
    "    cls.fit(inp, out)\n",
    "    score = cls.score(test_data_in_full, test_data_out_full)\n",
    "    return cls, score"
   ]
  },
  {
   "cell_type": "code",
   "execution_count": null,
   "metadata": {
    "collapsed": false
   },
   "outputs": [],
   "source": [
    "1 - np.mean(train_data_out_full)"
   ]
  },
  {
   "cell_type": "code",
   "execution_count": null,
   "metadata": {
    "collapsed": false
   },
   "outputs": [],
   "source": [
    "rf, rf_score = train_full(ensemble.RandomForestClassifier(class_weight='subsample'))\n",
    "print rf_score"
   ]
  },
  {
   "cell_type": "code",
   "execution_count": null,
   "metadata": {
    "collapsed": false
   },
   "outputs": [],
   "source": [
    "lsvm_c, lsvm_c_score = train_full(svm.LinearSVC())\n",
    "print lsvm_c_score"
   ]
  },
  {
   "cell_type": "code",
   "execution_count": null,
   "metadata": {
    "collapsed": false,
    "scrolled": false
   },
   "outputs": [],
   "source": [
    "log_reg, lr_score = train_full(linear_model.LogisticRegression())\n",
    "print lr_score"
   ]
  },
  {
   "cell_type": "markdown",
   "metadata": {},
   "source": [
    "It seems that using full cases in general gives a worse result. This is not that surprising as\n",
    "\n",
    "a) we use a limited the number of features which are features that have \"good\" data quality i.e. few Nulls/Nan\n",
    "b) Number of cases used are only about 30% (depending on which feature we select) of what we can use if we impute values in the Null/Nan cells of our dataset.\n",
    "\n",
    "\n",
    "#### End of test full case "
   ]
  },
  {
   "cell_type": "code",
   "execution_count": null,
   "metadata": {
    "collapsed": true
   },
   "outputs": [],
   "source": [
    "#Related work\n",
    "\n",
    "http://www.ultravioletanalytics.com/2014/12/01/kaggle-titanic-competition-part-vii-random-forests-and-feature-importance/\n",
    "    "
   ]
  }
 ],
 "metadata": {
  "kernelspec": {
   "display_name": "Python 2",
   "language": "python",
   "name": "python2"
  },
  "language_info": {
   "codemirror_mode": {
    "name": "ipython",
    "version": 2
   },
   "file_extension": ".py",
   "mimetype": "text/x-python",
   "name": "python",
   "nbconvert_exporter": "python",
   "pygments_lexer": "ipython2",
   "version": "2.7.10"
  }
 },
 "nbformat": 4,
 "nbformat_minor": 0
}
